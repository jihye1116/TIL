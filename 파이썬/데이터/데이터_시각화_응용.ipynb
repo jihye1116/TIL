{
  "nbformat": 4,
  "nbformat_minor": 0,
  "metadata": {
    "colab": {
      "provenance": []
    },
    "kernelspec": {
      "name": "python3",
      "display_name": "Python 3"
    }
  },
  "cells": [
    {
      "cell_type": "markdown",
      "metadata": {
        "id": "Ik_E8Ex3yWPF"
      },
      "source": [
        "0. 코랩에서 데이터 파일 열기"
      ]
    },
    {
      "cell_type": "code",
      "metadata": {
        "id": "1HzhRUiByZAw",
        "colab": {
          "base_uri": "https://localhost:8080/",
          "height": 60
        },
        "outputId": "f9c824f0-0df9-40fc-8a46-46da16fe7a74"
      },
      "source": [
        "#코랩에서 데이터 파일을 사용하기 위해 직접 업로드하는 코드\n",
        "from google.colab import files\n",
        "files.upload()"
      ],
      "execution_count": null,
      "outputs": [
        {
          "output_type": "display_data",
          "data": {
            "text/plain": [
              "<IPython.core.display.HTML object>"
            ],
            "text/html": [
              "\n",
              "     <input type=\"file\" id=\"files-f2ead9dd-92b1-4989-965f-e90599b6c078\" name=\"files[]\" multiple disabled\n",
              "        style=\"border:none\" />\n",
              "     <output id=\"result-f2ead9dd-92b1-4989-965f-e90599b6c078\">\n",
              "      Upload widget is only available when the cell has been executed in the\n",
              "      current browser session. Please rerun this cell to enable.\n",
              "      </output>\n",
              "      <script>// Copyright 2017 Google LLC\n",
              "//\n",
              "// Licensed under the Apache License, Version 2.0 (the \"License\");\n",
              "// you may not use this file except in compliance with the License.\n",
              "// You may obtain a copy of the License at\n",
              "//\n",
              "//      http://www.apache.org/licenses/LICENSE-2.0\n",
              "//\n",
              "// Unless required by applicable law or agreed to in writing, software\n",
              "// distributed under the License is distributed on an \"AS IS\" BASIS,\n",
              "// WITHOUT WARRANTIES OR CONDITIONS OF ANY KIND, either express or implied.\n",
              "// See the License for the specific language governing permissions and\n",
              "// limitations under the License.\n",
              "\n",
              "/**\n",
              " * @fileoverview Helpers for google.colab Python module.\n",
              " */\n",
              "(function(scope) {\n",
              "function span(text, styleAttributes = {}) {\n",
              "  const element = document.createElement('span');\n",
              "  element.textContent = text;\n",
              "  for (const key of Object.keys(styleAttributes)) {\n",
              "    element.style[key] = styleAttributes[key];\n",
              "  }\n",
              "  return element;\n",
              "}\n",
              "\n",
              "// Max number of bytes which will be uploaded at a time.\n",
              "const MAX_PAYLOAD_SIZE = 100 * 1024;\n",
              "\n",
              "function _uploadFiles(inputId, outputId) {\n",
              "  const steps = uploadFilesStep(inputId, outputId);\n",
              "  const outputElement = document.getElementById(outputId);\n",
              "  // Cache steps on the outputElement to make it available for the next call\n",
              "  // to uploadFilesContinue from Python.\n",
              "  outputElement.steps = steps;\n",
              "\n",
              "  return _uploadFilesContinue(outputId);\n",
              "}\n",
              "\n",
              "// This is roughly an async generator (not supported in the browser yet),\n",
              "// where there are multiple asynchronous steps and the Python side is going\n",
              "// to poll for completion of each step.\n",
              "// This uses a Promise to block the python side on completion of each step,\n",
              "// then passes the result of the previous step as the input to the next step.\n",
              "function _uploadFilesContinue(outputId) {\n",
              "  const outputElement = document.getElementById(outputId);\n",
              "  const steps = outputElement.steps;\n",
              "\n",
              "  const next = steps.next(outputElement.lastPromiseValue);\n",
              "  return Promise.resolve(next.value.promise).then((value) => {\n",
              "    // Cache the last promise value to make it available to the next\n",
              "    // step of the generator.\n",
              "    outputElement.lastPromiseValue = value;\n",
              "    return next.value.response;\n",
              "  });\n",
              "}\n",
              "\n",
              "/**\n",
              " * Generator function which is called between each async step of the upload\n",
              " * process.\n",
              " * @param {string} inputId Element ID of the input file picker element.\n",
              " * @param {string} outputId Element ID of the output display.\n",
              " * @return {!Iterable<!Object>} Iterable of next steps.\n",
              " */\n",
              "function* uploadFilesStep(inputId, outputId) {\n",
              "  const inputElement = document.getElementById(inputId);\n",
              "  inputElement.disabled = false;\n",
              "\n",
              "  const outputElement = document.getElementById(outputId);\n",
              "  outputElement.innerHTML = '';\n",
              "\n",
              "  const pickedPromise = new Promise((resolve) => {\n",
              "    inputElement.addEventListener('change', (e) => {\n",
              "      resolve(e.target.files);\n",
              "    });\n",
              "  });\n",
              "\n",
              "  const cancel = document.createElement('button');\n",
              "  inputElement.parentElement.appendChild(cancel);\n",
              "  cancel.textContent = 'Cancel upload';\n",
              "  const cancelPromise = new Promise((resolve) => {\n",
              "    cancel.onclick = () => {\n",
              "      resolve(null);\n",
              "    };\n",
              "  });\n",
              "\n",
              "  // Wait for the user to pick the files.\n",
              "  const files = yield {\n",
              "    promise: Promise.race([pickedPromise, cancelPromise]),\n",
              "    response: {\n",
              "      action: 'starting',\n",
              "    }\n",
              "  };\n",
              "\n",
              "  cancel.remove();\n",
              "\n",
              "  // Disable the input element since further picks are not allowed.\n",
              "  inputElement.disabled = true;\n",
              "\n",
              "  if (!files) {\n",
              "    return {\n",
              "      response: {\n",
              "        action: 'complete',\n",
              "      }\n",
              "    };\n",
              "  }\n",
              "\n",
              "  for (const file of files) {\n",
              "    const li = document.createElement('li');\n",
              "    li.append(span(file.name, {fontWeight: 'bold'}));\n",
              "    li.append(span(\n",
              "        `(${file.type || 'n/a'}) - ${file.size} bytes, ` +\n",
              "        `last modified: ${\n",
              "            file.lastModifiedDate ? file.lastModifiedDate.toLocaleDateString() :\n",
              "                                    'n/a'} - `));\n",
              "    const percent = span('0% done');\n",
              "    li.appendChild(percent);\n",
              "\n",
              "    outputElement.appendChild(li);\n",
              "\n",
              "    const fileDataPromise = new Promise((resolve) => {\n",
              "      const reader = new FileReader();\n",
              "      reader.onload = (e) => {\n",
              "        resolve(e.target.result);\n",
              "      };\n",
              "      reader.readAsArrayBuffer(file);\n",
              "    });\n",
              "    // Wait for the data to be ready.\n",
              "    let fileData = yield {\n",
              "      promise: fileDataPromise,\n",
              "      response: {\n",
              "        action: 'continue',\n",
              "      }\n",
              "    };\n",
              "\n",
              "    // Use a chunked sending to avoid message size limits. See b/62115660.\n",
              "    let position = 0;\n",
              "    do {\n",
              "      const length = Math.min(fileData.byteLength - position, MAX_PAYLOAD_SIZE);\n",
              "      const chunk = new Uint8Array(fileData, position, length);\n",
              "      position += length;\n",
              "\n",
              "      const base64 = btoa(String.fromCharCode.apply(null, chunk));\n",
              "      yield {\n",
              "        response: {\n",
              "          action: 'append',\n",
              "          file: file.name,\n",
              "          data: base64,\n",
              "        },\n",
              "      };\n",
              "\n",
              "      let percentDone = fileData.byteLength === 0 ?\n",
              "          100 :\n",
              "          Math.round((position / fileData.byteLength) * 100);\n",
              "      percent.textContent = `${percentDone}% done`;\n",
              "\n",
              "    } while (position < fileData.byteLength);\n",
              "  }\n",
              "\n",
              "  // All done.\n",
              "  yield {\n",
              "    response: {\n",
              "      action: 'complete',\n",
              "    }\n",
              "  };\n",
              "}\n",
              "\n",
              "scope.google = scope.google || {};\n",
              "scope.google.colab = scope.google.colab || {};\n",
              "scope.google.colab._files = {\n",
              "  _uploadFiles,\n",
              "  _uploadFilesContinue,\n",
              "};\n",
              "})(self);\n",
              "</script> "
            ]
          },
          "metadata": {}
        },
        {
          "output_type": "execute_result",
          "data": {
            "text/plain": [
              "{}"
            ]
          },
          "metadata": {},
          "execution_count": 39
        }
      ]
    },
    {
      "cell_type": "markdown",
      "metadata": {
        "id": "3rq4EVDAydmo"
      },
      "source": [
        "(참고용) 구글 드라이브 마운트"
      ]
    },
    {
      "cell_type": "code",
      "metadata": {
        "id": "RVJZuOhazRnm",
        "colab": {
          "base_uri": "https://localhost:8080/",
          "height": 360
        },
        "outputId": "323a6559-6db8-47e6-835c-dd0d1db83fd8"
      },
      "source": [
        "#코랩에서 구글 드라이브에 올린 파일을 사용하기 위해 마운트(연결)하는 코드\n",
        "from google.colab import drive\n",
        "drive.mount('/content/gdrive/')"
      ],
      "execution_count": null,
      "outputs": [
        {
          "output_type": "error",
          "ename": "MessageError",
          "evalue": "ignored",
          "traceback": [
            "\u001b[0;31m---------------------------------------------------------------------------\u001b[0m",
            "\u001b[0;31mMessageError\u001b[0m                              Traceback (most recent call last)",
            "\u001b[0;32m<ipython-input-40-a29bb1836c7d>\u001b[0m in \u001b[0;36m<module>\u001b[0;34m\u001b[0m\n\u001b[1;32m      1\u001b[0m \u001b[0;31m#코랩에서 구글 드라이브에 올린 파일을 사용하기 위해 마운트(연결)하는 코드\u001b[0m\u001b[0;34m\u001b[0m\u001b[0;34m\u001b[0m\u001b[0;34m\u001b[0m\u001b[0m\n\u001b[1;32m      2\u001b[0m \u001b[0;32mfrom\u001b[0m \u001b[0mgoogle\u001b[0m\u001b[0;34m.\u001b[0m\u001b[0mcolab\u001b[0m \u001b[0;32mimport\u001b[0m \u001b[0mdrive\u001b[0m\u001b[0;34m\u001b[0m\u001b[0;34m\u001b[0m\u001b[0m\n\u001b[0;32m----> 3\u001b[0;31m \u001b[0mdrive\u001b[0m\u001b[0;34m.\u001b[0m\u001b[0mmount\u001b[0m\u001b[0;34m(\u001b[0m\u001b[0;34m'/content/gdrive/'\u001b[0m\u001b[0;34m)\u001b[0m\u001b[0;34m\u001b[0m\u001b[0;34m\u001b[0m\u001b[0m\n\u001b[0m",
            "\u001b[0;32m/usr/local/lib/python3.7/dist-packages/google/colab/drive.py\u001b[0m in \u001b[0;36mmount\u001b[0;34m(mountpoint, force_remount, timeout_ms, readonly)\u001b[0m\n\u001b[1;32m    104\u001b[0m       \u001b[0mtimeout_ms\u001b[0m\u001b[0;34m=\u001b[0m\u001b[0mtimeout_ms\u001b[0m\u001b[0;34m,\u001b[0m\u001b[0;34m\u001b[0m\u001b[0;34m\u001b[0m\u001b[0m\n\u001b[1;32m    105\u001b[0m       \u001b[0mephemeral\u001b[0m\u001b[0;34m=\u001b[0m\u001b[0;32mTrue\u001b[0m\u001b[0;34m,\u001b[0m\u001b[0;34m\u001b[0m\u001b[0;34m\u001b[0m\u001b[0m\n\u001b[0;32m--> 106\u001b[0;31m       readonly=readonly)\n\u001b[0m\u001b[1;32m    107\u001b[0m \u001b[0;34m\u001b[0m\u001b[0m\n\u001b[1;32m    108\u001b[0m \u001b[0;34m\u001b[0m\u001b[0m\n",
            "\u001b[0;32m/usr/local/lib/python3.7/dist-packages/google/colab/drive.py\u001b[0m in \u001b[0;36m_mount\u001b[0;34m(mountpoint, force_remount, timeout_ms, ephemeral, readonly)\u001b[0m\n\u001b[1;32m    123\u001b[0m   \u001b[0;32mif\u001b[0m \u001b[0mephemeral\u001b[0m\u001b[0;34m:\u001b[0m\u001b[0;34m\u001b[0m\u001b[0;34m\u001b[0m\u001b[0m\n\u001b[1;32m    124\u001b[0m     _message.blocking_request(\n\u001b[0;32m--> 125\u001b[0;31m         'request_auth', request={'authType': 'dfs_ephemeral'}, timeout_sec=None)\n\u001b[0m\u001b[1;32m    126\u001b[0m \u001b[0;34m\u001b[0m\u001b[0m\n\u001b[1;32m    127\u001b[0m   \u001b[0mmountpoint\u001b[0m \u001b[0;34m=\u001b[0m \u001b[0m_os\u001b[0m\u001b[0;34m.\u001b[0m\u001b[0mpath\u001b[0m\u001b[0;34m.\u001b[0m\u001b[0mexpanduser\u001b[0m\u001b[0;34m(\u001b[0m\u001b[0mmountpoint\u001b[0m\u001b[0;34m)\u001b[0m\u001b[0;34m\u001b[0m\u001b[0;34m\u001b[0m\u001b[0m\n",
            "\u001b[0;32m/usr/local/lib/python3.7/dist-packages/google/colab/_message.py\u001b[0m in \u001b[0;36mblocking_request\u001b[0;34m(request_type, request, timeout_sec, parent)\u001b[0m\n\u001b[1;32m    169\u001b[0m   request_id = send_request(\n\u001b[1;32m    170\u001b[0m       request_type, request, parent=parent, expect_reply=True)\n\u001b[0;32m--> 171\u001b[0;31m   \u001b[0;32mreturn\u001b[0m \u001b[0mread_reply_from_input\u001b[0m\u001b[0;34m(\u001b[0m\u001b[0mrequest_id\u001b[0m\u001b[0;34m,\u001b[0m \u001b[0mtimeout_sec\u001b[0m\u001b[0;34m)\u001b[0m\u001b[0;34m\u001b[0m\u001b[0;34m\u001b[0m\u001b[0m\n\u001b[0m",
            "\u001b[0;32m/usr/local/lib/python3.7/dist-packages/google/colab/_message.py\u001b[0m in \u001b[0;36mread_reply_from_input\u001b[0;34m(message_id, timeout_sec)\u001b[0m\n\u001b[1;32m    100\u001b[0m         reply.get('colab_msg_id') == message_id):\n\u001b[1;32m    101\u001b[0m       \u001b[0;32mif\u001b[0m \u001b[0;34m'error'\u001b[0m \u001b[0;32min\u001b[0m \u001b[0mreply\u001b[0m\u001b[0;34m:\u001b[0m\u001b[0;34m\u001b[0m\u001b[0;34m\u001b[0m\u001b[0m\n\u001b[0;32m--> 102\u001b[0;31m         \u001b[0;32mraise\u001b[0m \u001b[0mMessageError\u001b[0m\u001b[0;34m(\u001b[0m\u001b[0mreply\u001b[0m\u001b[0;34m[\u001b[0m\u001b[0;34m'error'\u001b[0m\u001b[0;34m]\u001b[0m\u001b[0;34m)\u001b[0m\u001b[0;34m\u001b[0m\u001b[0;34m\u001b[0m\u001b[0m\n\u001b[0m\u001b[1;32m    103\u001b[0m       \u001b[0;32mreturn\u001b[0m \u001b[0mreply\u001b[0m\u001b[0;34m.\u001b[0m\u001b[0mget\u001b[0m\u001b[0;34m(\u001b[0m\u001b[0;34m'data'\u001b[0m\u001b[0;34m,\u001b[0m \u001b[0;32mNone\u001b[0m\u001b[0;34m)\u001b[0m\u001b[0;34m\u001b[0m\u001b[0;34m\u001b[0m\u001b[0m\n\u001b[1;32m    104\u001b[0m \u001b[0;34m\u001b[0m\u001b[0m\n",
            "\u001b[0;31mMessageError\u001b[0m: Error: credential propagation was unsuccessful"
          ]
        }
      ]
    },
    {
      "cell_type": "markdown",
      "metadata": {
        "id": "hJi6IakAzowX"
      },
      "source": [
        "코랩에서 한글 폰트 사용하기"
      ]
    },
    {
      "cell_type": "markdown",
      "metadata": {
        "id": "Eo1OZ3Fvzt8N"
      },
      "source": [
        "- 코랩에서 이 과정 없이 한글을 쓰면 깨져서 나옴."
      ]
    },
    {
      "cell_type": "code",
      "metadata": {
        "id": "ItI1OfnVzyGm",
        "colab": {
          "base_uri": "https://localhost:8080/"
        },
        "outputId": "9df1371f-f9dc-4850-b708-e4b10aea11a3"
      },
      "source": [
        "# 그래프에 한글 폰트 사용하는 코드 -> 실행 후 [런타임]-[런타임 다시 시작] 메뉴를 이용하여 런타임 재시작!\n",
        "!sudo apt-get install -y fonts-nanum\n",
        "!sudo fc-cache -fv\n",
        "!rm ~/.cache/matplotlib -rf"
      ],
      "execution_count": null,
      "outputs": [
        {
          "output_type": "stream",
          "name": "stdout",
          "text": [
            "Reading package lists... Done\n",
            "Building dependency tree       \n",
            "Reading state information... Done\n",
            "fonts-nanum is already the newest version (20170925-1).\n",
            "The following package was automatically installed and is no longer required:\n",
            "  libnvidia-common-460\n",
            "Use 'sudo apt autoremove' to remove it.\n",
            "0 upgraded, 0 newly installed, 0 to remove and 5 not upgraded.\n",
            "/usr/share/fonts: caching, new cache contents: 0 fonts, 1 dirs\n",
            "/usr/share/fonts/truetype: caching, new cache contents: 0 fonts, 3 dirs\n",
            "/usr/share/fonts/truetype/humor-sans: caching, new cache contents: 1 fonts, 0 dirs\n",
            "/usr/share/fonts/truetype/liberation: caching, new cache contents: 16 fonts, 0 dirs\n",
            "/usr/share/fonts/truetype/nanum: caching, new cache contents: 10 fonts, 0 dirs\n",
            "/usr/local/share/fonts: caching, new cache contents: 0 fonts, 0 dirs\n",
            "/root/.local/share/fonts: skipping, no such directory\n",
            "/root/.fonts: skipping, no such directory\n",
            "/var/cache/fontconfig: cleaning cache directory\n",
            "/root/.cache/fontconfig: not cleaning non-existent cache directory\n",
            "/root/.fontconfig: not cleaning non-existent cache directory\n",
            "fc-cache: succeeded\n"
          ]
        }
      ]
    },
    {
      "cell_type": "code",
      "metadata": {
        "id": "J9gwgC8l0AU_"
      },
      "source": [
        "#런타임 재시작 이후 한글 폰트 선택\n",
        "import matplotlib.pyplot as plt\n",
        "plt.rc('font', family=\"NanumBarunGothic\")"
      ],
      "execution_count": null,
      "outputs": []
    },
    {
      "cell_type": "markdown",
      "metadata": {
        "id": "R6m9BV4J0LL5"
      },
      "source": [
        "데이터 불러오기(135쪽)"
      ]
    },
    {
      "cell_type": "markdown",
      "metadata": {
        "id": "ELYjb_H90RMp"
      },
      "source": [
        "- 인터넷 반응 지표 데이터 불러오기"
      ]
    },
    {
      "cell_type": "code",
      "source": [
        "!pip install --upgrade openpyxl "
      ],
      "metadata": {
        "colab": {
          "base_uri": "https://localhost:8080/"
        },
        "id": "AGvfAnv03UFi",
        "outputId": "bcf2c4e4-cf78-4ece-e83e-7a8233aabe2c"
      },
      "execution_count": null,
      "outputs": [
        {
          "output_type": "stream",
          "name": "stdout",
          "text": [
            "Looking in indexes: https://pypi.org/simple, https://us-python.pkg.dev/colab-wheels/public/simple/\n",
            "Requirement already satisfied: openpyxl in /usr/local/lib/python3.7/dist-packages (3.0.10)\n",
            "Requirement already satisfied: et-xmlfile in /usr/local/lib/python3.7/dist-packages (from openpyxl) (1.1.0)\n"
          ]
        }
      ]
    },
    {
      "cell_type": "code",
      "metadata": {
        "id": "ejiQ08pX0TJm",
        "colab": {
          "base_uri": "https://localhost:8080/",
          "height": 537
        },
        "outputId": "12855156-aa36-4d77-f725-cbcffa02bf93"
      },
      "source": [
        "import pandas as pd                         # 판다스 라이브러리 불러오기\n",
        "df = pd.read_excel('인터넷반응DB_9월5주_11월1주 (3).xlsx')               # 인터넷 반응 지표 데이터 불러오기\n",
        "df"
      ],
      "execution_count": null,
      "outputs": [
        {
          "output_type": "execute_result",
          "data": {
            "text/plain": [
              "          주차                프로그램명         채널     요일  게시글    댓글   동영상 조회   뉴스  \\\n",
              "0     202239              * 라디오스타        MBC      수  214   658  1040480  377   \n",
              "1     202239                  알토란        MBN      화   95   182     6703   16   \n",
              "2     202239                엄지의제왕        MBN      화   28     3    21807    0   \n",
              "3     202239           이제 만나러 갑니다        채널A      일   13     9    38800   20   \n",
              "4     202239               불후의 명곡       KBS2      토  358  1324   244385  222   \n",
              "...      ...                  ...        ...    ...  ...   ...      ...  ...   \n",
              "2567  202238            얼어죽을 연애따위        ENA     수목   30    15     3300  169   \n",
              "2568  202238                여행의 맛  TV CHOSUN      금   11    17     6019   89   \n",
              "2569  202238  그리스 로마 신화 - 신들의 사생활        MBN      토    8    11     3289  100   \n",
              "2570  202238               태풍의 신부       KBS2  월화수목금   12    17     5096   38   \n",
              "2571  202238                   슈룹        tvN     토일  132   353   515313  208   \n",
              "\n",
              "      동영상  게시글 비율  댓글 비율  동영상 조회 비율  뉴스 비율  동영상 비율       가구    2049  가구 시청률  \\\n",
              "0      47     0.7    0.6        1.4    1.5     0.9   798107  400677     4.0   \n",
              "1      44     0.3    0.2        0.0    0.1     0.8   166179   21020     0.8   \n",
              "2      24     0.1    0.0        0.0    0.0     0.4   121993   67785     0.6   \n",
              "3      25     0.0    0.0        0.1    0.1     0.5   166790   74058     0.8   \n",
              "4      52     1.2    1.2        0.3    0.9     1.0  1330395  348610     6.6   \n",
              "...   ...     ...    ...        ...    ...     ...      ...     ...     ...   \n",
              "2567    1     0.1    0.0        0.0    0.7     0.0        0       0     0.0   \n",
              "2568    4     0.0    0.0        0.0    0.4     0.1        0       0     0.0   \n",
              "2569    5     0.0    0.0        0.0    0.4     0.1        0       0     0.0   \n",
              "2570    1     0.0    0.0        0.0    0.2     0.0        0       0     0.0   \n",
              "2571    5     0.4    0.2        0.7    0.8     0.1        0       0     0.0   \n",
              "\n",
              "      2049 시청률  \n",
              "0          1.8  \n",
              "1          0.1  \n",
              "2          0.3  \n",
              "3          0.3  \n",
              "4          1.6  \n",
              "...        ...  \n",
              "2567       0.0  \n",
              "2568       0.0  \n",
              "2569       0.0  \n",
              "2570       0.0  \n",
              "2571       0.0  \n",
              "\n",
              "[2572 rows x 18 columns]"
            ],
            "text/html": [
              "\n",
              "  <div id=\"df-66432937-ddcb-4af8-933b-5489ccc9414b\">\n",
              "    <div class=\"colab-df-container\">\n",
              "      <div>\n",
              "<style scoped>\n",
              "    .dataframe tbody tr th:only-of-type {\n",
              "        vertical-align: middle;\n",
              "    }\n",
              "\n",
              "    .dataframe tbody tr th {\n",
              "        vertical-align: top;\n",
              "    }\n",
              "\n",
              "    .dataframe thead th {\n",
              "        text-align: right;\n",
              "    }\n",
              "</style>\n",
              "<table border=\"1\" class=\"dataframe\">\n",
              "  <thead>\n",
              "    <tr style=\"text-align: right;\">\n",
              "      <th></th>\n",
              "      <th>주차</th>\n",
              "      <th>프로그램명</th>\n",
              "      <th>채널</th>\n",
              "      <th>요일</th>\n",
              "      <th>게시글</th>\n",
              "      <th>댓글</th>\n",
              "      <th>동영상 조회</th>\n",
              "      <th>뉴스</th>\n",
              "      <th>동영상</th>\n",
              "      <th>게시글 비율</th>\n",
              "      <th>댓글 비율</th>\n",
              "      <th>동영상 조회 비율</th>\n",
              "      <th>뉴스 비율</th>\n",
              "      <th>동영상 비율</th>\n",
              "      <th>가구</th>\n",
              "      <th>2049</th>\n",
              "      <th>가구 시청률</th>\n",
              "      <th>2049 시청률</th>\n",
              "    </tr>\n",
              "  </thead>\n",
              "  <tbody>\n",
              "    <tr>\n",
              "      <th>0</th>\n",
              "      <td>202239</td>\n",
              "      <td>* 라디오스타</td>\n",
              "      <td>MBC</td>\n",
              "      <td>수</td>\n",
              "      <td>214</td>\n",
              "      <td>658</td>\n",
              "      <td>1040480</td>\n",
              "      <td>377</td>\n",
              "      <td>47</td>\n",
              "      <td>0.7</td>\n",
              "      <td>0.6</td>\n",
              "      <td>1.4</td>\n",
              "      <td>1.5</td>\n",
              "      <td>0.9</td>\n",
              "      <td>798107</td>\n",
              "      <td>400677</td>\n",
              "      <td>4.0</td>\n",
              "      <td>1.8</td>\n",
              "    </tr>\n",
              "    <tr>\n",
              "      <th>1</th>\n",
              "      <td>202239</td>\n",
              "      <td>알토란</td>\n",
              "      <td>MBN</td>\n",
              "      <td>화</td>\n",
              "      <td>95</td>\n",
              "      <td>182</td>\n",
              "      <td>6703</td>\n",
              "      <td>16</td>\n",
              "      <td>44</td>\n",
              "      <td>0.3</td>\n",
              "      <td>0.2</td>\n",
              "      <td>0.0</td>\n",
              "      <td>0.1</td>\n",
              "      <td>0.8</td>\n",
              "      <td>166179</td>\n",
              "      <td>21020</td>\n",
              "      <td>0.8</td>\n",
              "      <td>0.1</td>\n",
              "    </tr>\n",
              "    <tr>\n",
              "      <th>2</th>\n",
              "      <td>202239</td>\n",
              "      <td>엄지의제왕</td>\n",
              "      <td>MBN</td>\n",
              "      <td>화</td>\n",
              "      <td>28</td>\n",
              "      <td>3</td>\n",
              "      <td>21807</td>\n",
              "      <td>0</td>\n",
              "      <td>24</td>\n",
              "      <td>0.1</td>\n",
              "      <td>0.0</td>\n",
              "      <td>0.0</td>\n",
              "      <td>0.0</td>\n",
              "      <td>0.4</td>\n",
              "      <td>121993</td>\n",
              "      <td>67785</td>\n",
              "      <td>0.6</td>\n",
              "      <td>0.3</td>\n",
              "    </tr>\n",
              "    <tr>\n",
              "      <th>3</th>\n",
              "      <td>202239</td>\n",
              "      <td>이제 만나러 갑니다</td>\n",
              "      <td>채널A</td>\n",
              "      <td>일</td>\n",
              "      <td>13</td>\n",
              "      <td>9</td>\n",
              "      <td>38800</td>\n",
              "      <td>20</td>\n",
              "      <td>25</td>\n",
              "      <td>0.0</td>\n",
              "      <td>0.0</td>\n",
              "      <td>0.1</td>\n",
              "      <td>0.1</td>\n",
              "      <td>0.5</td>\n",
              "      <td>166790</td>\n",
              "      <td>74058</td>\n",
              "      <td>0.8</td>\n",
              "      <td>0.3</td>\n",
              "    </tr>\n",
              "    <tr>\n",
              "      <th>4</th>\n",
              "      <td>202239</td>\n",
              "      <td>불후의 명곡</td>\n",
              "      <td>KBS2</td>\n",
              "      <td>토</td>\n",
              "      <td>358</td>\n",
              "      <td>1324</td>\n",
              "      <td>244385</td>\n",
              "      <td>222</td>\n",
              "      <td>52</td>\n",
              "      <td>1.2</td>\n",
              "      <td>1.2</td>\n",
              "      <td>0.3</td>\n",
              "      <td>0.9</td>\n",
              "      <td>1.0</td>\n",
              "      <td>1330395</td>\n",
              "      <td>348610</td>\n",
              "      <td>6.6</td>\n",
              "      <td>1.6</td>\n",
              "    </tr>\n",
              "    <tr>\n",
              "      <th>...</th>\n",
              "      <td>...</td>\n",
              "      <td>...</td>\n",
              "      <td>...</td>\n",
              "      <td>...</td>\n",
              "      <td>...</td>\n",
              "      <td>...</td>\n",
              "      <td>...</td>\n",
              "      <td>...</td>\n",
              "      <td>...</td>\n",
              "      <td>...</td>\n",
              "      <td>...</td>\n",
              "      <td>...</td>\n",
              "      <td>...</td>\n",
              "      <td>...</td>\n",
              "      <td>...</td>\n",
              "      <td>...</td>\n",
              "      <td>...</td>\n",
              "      <td>...</td>\n",
              "    </tr>\n",
              "    <tr>\n",
              "      <th>2567</th>\n",
              "      <td>202238</td>\n",
              "      <td>얼어죽을 연애따위</td>\n",
              "      <td>ENA</td>\n",
              "      <td>수목</td>\n",
              "      <td>30</td>\n",
              "      <td>15</td>\n",
              "      <td>3300</td>\n",
              "      <td>169</td>\n",
              "      <td>1</td>\n",
              "      <td>0.1</td>\n",
              "      <td>0.0</td>\n",
              "      <td>0.0</td>\n",
              "      <td>0.7</td>\n",
              "      <td>0.0</td>\n",
              "      <td>0</td>\n",
              "      <td>0</td>\n",
              "      <td>0.0</td>\n",
              "      <td>0.0</td>\n",
              "    </tr>\n",
              "    <tr>\n",
              "      <th>2568</th>\n",
              "      <td>202238</td>\n",
              "      <td>여행의 맛</td>\n",
              "      <td>TV CHOSUN</td>\n",
              "      <td>금</td>\n",
              "      <td>11</td>\n",
              "      <td>17</td>\n",
              "      <td>6019</td>\n",
              "      <td>89</td>\n",
              "      <td>4</td>\n",
              "      <td>0.0</td>\n",
              "      <td>0.0</td>\n",
              "      <td>0.0</td>\n",
              "      <td>0.4</td>\n",
              "      <td>0.1</td>\n",
              "      <td>0</td>\n",
              "      <td>0</td>\n",
              "      <td>0.0</td>\n",
              "      <td>0.0</td>\n",
              "    </tr>\n",
              "    <tr>\n",
              "      <th>2569</th>\n",
              "      <td>202238</td>\n",
              "      <td>그리스 로마 신화 - 신들의 사생활</td>\n",
              "      <td>MBN</td>\n",
              "      <td>토</td>\n",
              "      <td>8</td>\n",
              "      <td>11</td>\n",
              "      <td>3289</td>\n",
              "      <td>100</td>\n",
              "      <td>5</td>\n",
              "      <td>0.0</td>\n",
              "      <td>0.0</td>\n",
              "      <td>0.0</td>\n",
              "      <td>0.4</td>\n",
              "      <td>0.1</td>\n",
              "      <td>0</td>\n",
              "      <td>0</td>\n",
              "      <td>0.0</td>\n",
              "      <td>0.0</td>\n",
              "    </tr>\n",
              "    <tr>\n",
              "      <th>2570</th>\n",
              "      <td>202238</td>\n",
              "      <td>태풍의 신부</td>\n",
              "      <td>KBS2</td>\n",
              "      <td>월화수목금</td>\n",
              "      <td>12</td>\n",
              "      <td>17</td>\n",
              "      <td>5096</td>\n",
              "      <td>38</td>\n",
              "      <td>1</td>\n",
              "      <td>0.0</td>\n",
              "      <td>0.0</td>\n",
              "      <td>0.0</td>\n",
              "      <td>0.2</td>\n",
              "      <td>0.0</td>\n",
              "      <td>0</td>\n",
              "      <td>0</td>\n",
              "      <td>0.0</td>\n",
              "      <td>0.0</td>\n",
              "    </tr>\n",
              "    <tr>\n",
              "      <th>2571</th>\n",
              "      <td>202238</td>\n",
              "      <td>슈룹</td>\n",
              "      <td>tvN</td>\n",
              "      <td>토일</td>\n",
              "      <td>132</td>\n",
              "      <td>353</td>\n",
              "      <td>515313</td>\n",
              "      <td>208</td>\n",
              "      <td>5</td>\n",
              "      <td>0.4</td>\n",
              "      <td>0.2</td>\n",
              "      <td>0.7</td>\n",
              "      <td>0.8</td>\n",
              "      <td>0.1</td>\n",
              "      <td>0</td>\n",
              "      <td>0</td>\n",
              "      <td>0.0</td>\n",
              "      <td>0.0</td>\n",
              "    </tr>\n",
              "  </tbody>\n",
              "</table>\n",
              "<p>2572 rows × 18 columns</p>\n",
              "</div>\n",
              "      <button class=\"colab-df-convert\" onclick=\"convertToInteractive('df-66432937-ddcb-4af8-933b-5489ccc9414b')\"\n",
              "              title=\"Convert this dataframe to an interactive table.\"\n",
              "              style=\"display:none;\">\n",
              "        \n",
              "  <svg xmlns=\"http://www.w3.org/2000/svg\" height=\"24px\"viewBox=\"0 0 24 24\"\n",
              "       width=\"24px\">\n",
              "    <path d=\"M0 0h24v24H0V0z\" fill=\"none\"/>\n",
              "    <path d=\"M18.56 5.44l.94 2.06.94-2.06 2.06-.94-2.06-.94-.94-2.06-.94 2.06-2.06.94zm-11 1L8.5 8.5l.94-2.06 2.06-.94-2.06-.94L8.5 2.5l-.94 2.06-2.06.94zm10 10l.94 2.06.94-2.06 2.06-.94-2.06-.94-.94-2.06-.94 2.06-2.06.94z\"/><path d=\"M17.41 7.96l-1.37-1.37c-.4-.4-.92-.59-1.43-.59-.52 0-1.04.2-1.43.59L10.3 9.45l-7.72 7.72c-.78.78-.78 2.05 0 2.83L4 21.41c.39.39.9.59 1.41.59.51 0 1.02-.2 1.41-.59l7.78-7.78 2.81-2.81c.8-.78.8-2.07 0-2.86zM5.41 20L4 18.59l7.72-7.72 1.47 1.35L5.41 20z\"/>\n",
              "  </svg>\n",
              "      </button>\n",
              "      \n",
              "  <style>\n",
              "    .colab-df-container {\n",
              "      display:flex;\n",
              "      flex-wrap:wrap;\n",
              "      gap: 12px;\n",
              "    }\n",
              "\n",
              "    .colab-df-convert {\n",
              "      background-color: #E8F0FE;\n",
              "      border: none;\n",
              "      border-radius: 50%;\n",
              "      cursor: pointer;\n",
              "      display: none;\n",
              "      fill: #1967D2;\n",
              "      height: 32px;\n",
              "      padding: 0 0 0 0;\n",
              "      width: 32px;\n",
              "    }\n",
              "\n",
              "    .colab-df-convert:hover {\n",
              "      background-color: #E2EBFA;\n",
              "      box-shadow: 0px 1px 2px rgba(60, 64, 67, 0.3), 0px 1px 3px 1px rgba(60, 64, 67, 0.15);\n",
              "      fill: #174EA6;\n",
              "    }\n",
              "\n",
              "    [theme=dark] .colab-df-convert {\n",
              "      background-color: #3B4455;\n",
              "      fill: #D2E3FC;\n",
              "    }\n",
              "\n",
              "    [theme=dark] .colab-df-convert:hover {\n",
              "      background-color: #434B5C;\n",
              "      box-shadow: 0px 1px 3px 1px rgba(0, 0, 0, 0.15);\n",
              "      filter: drop-shadow(0px 1px 2px rgba(0, 0, 0, 0.3));\n",
              "      fill: #FFFFFF;\n",
              "    }\n",
              "  </style>\n",
              "\n",
              "      <script>\n",
              "        const buttonEl =\n",
              "          document.querySelector('#df-66432937-ddcb-4af8-933b-5489ccc9414b button.colab-df-convert');\n",
              "        buttonEl.style.display =\n",
              "          google.colab.kernel.accessAllowed ? 'block' : 'none';\n",
              "\n",
              "        async function convertToInteractive(key) {\n",
              "          const element = document.querySelector('#df-66432937-ddcb-4af8-933b-5489ccc9414b');\n",
              "          const dataTable =\n",
              "            await google.colab.kernel.invokeFunction('convertToInteractive',\n",
              "                                                     [key], {});\n",
              "          if (!dataTable) return;\n",
              "\n",
              "          const docLinkHtml = 'Like what you see? Visit the ' +\n",
              "            '<a target=\"_blank\" href=https://colab.research.google.com/notebooks/data_table.ipynb>data table notebook</a>'\n",
              "            + ' to learn more about interactive tables.';\n",
              "          element.innerHTML = '';\n",
              "          dataTable['output_type'] = 'display_data';\n",
              "          await google.colab.output.renderOutput(dataTable, element);\n",
              "          const docLink = document.createElement('div');\n",
              "          docLink.innerHTML = docLinkHtml;\n",
              "          element.appendChild(docLink);\n",
              "        }\n",
              "      </script>\n",
              "    </div>\n",
              "  </div>\n",
              "  "
            ]
          },
          "metadata": {},
          "execution_count": 4
        }
      ]
    },
    {
      "cell_type": "markdown",
      "metadata": {
        "id": "LH8rk1qZ0dPi"
      },
      "source": [
        "데이터 살펴보기(135~136쪽)"
      ]
    },
    {
      "cell_type": "markdown",
      "metadata": {
        "id": "NyyWgaqt0kMC"
      },
      "source": [
        "- 데이터의 전체 크기 확인"
      ]
    },
    {
      "cell_type": "code",
      "metadata": {
        "id": "FGogfFEM0mHV",
        "colab": {
          "base_uri": "https://localhost:8080/"
        },
        "outputId": "c86914ae-175f-450f-eb3b-b54b0d79e474"
      },
      "source": [
        "df.shape    # 전체 행과 열의 개수"
      ],
      "execution_count": null,
      "outputs": [
        {
          "output_type": "execute_result",
          "data": {
            "text/plain": [
              "(2572, 18)"
            ]
          },
          "metadata": {},
          "execution_count": 5
        }
      ]
    },
    {
      "cell_type": "markdown",
      "metadata": {
        "id": "lYnoh_0b0pVr"
      },
      "source": [
        "- 인터넷 반응 지표 데이터의 속성 (컬럼 파악하기)"
      ]
    },
    {
      "cell_type": "code",
      "metadata": {
        "id": "jb1UWaJU0qaj",
        "colab": {
          "base_uri": "https://localhost:8080/",
          "height": 250
        },
        "outputId": "1c59cb17-32c7-44da-bb82-fc532be7bde2"
      },
      "source": [
        "df.head()"
      ],
      "execution_count": null,
      "outputs": [
        {
          "output_type": "execute_result",
          "data": {
            "text/plain": [
              "       주차       프로그램명    채널 요일  게시글    댓글   동영상 조회   뉴스  동영상  게시글 비율  댓글 비율  \\\n",
              "0  202239     * 라디오스타   MBC  수  214   658  1040480  377   47     0.7    0.6   \n",
              "1  202239         알토란   MBN  화   95   182     6703   16   44     0.3    0.2   \n",
              "2  202239       엄지의제왕   MBN  화   28     3    21807    0   24     0.1    0.0   \n",
              "3  202239  이제 만나러 갑니다   채널A  일   13     9    38800   20   25     0.0    0.0   \n",
              "4  202239      불후의 명곡  KBS2  토  358  1324   244385  222   52     1.2    1.2   \n",
              "\n",
              "   동영상 조회 비율  뉴스 비율  동영상 비율       가구    2049  가구 시청률  2049 시청률  \n",
              "0        1.4    1.5     0.9   798107  400677     4.0       1.8  \n",
              "1        0.0    0.1     0.8   166179   21020     0.8       0.1  \n",
              "2        0.0    0.0     0.4   121993   67785     0.6       0.3  \n",
              "3        0.1    0.1     0.5   166790   74058     0.8       0.3  \n",
              "4        0.3    0.9     1.0  1330395  348610     6.6       1.6  "
            ],
            "text/html": [
              "\n",
              "  <div id=\"df-222712df-5ef0-4ca1-85ce-28dc6b4864ad\">\n",
              "    <div class=\"colab-df-container\">\n",
              "      <div>\n",
              "<style scoped>\n",
              "    .dataframe tbody tr th:only-of-type {\n",
              "        vertical-align: middle;\n",
              "    }\n",
              "\n",
              "    .dataframe tbody tr th {\n",
              "        vertical-align: top;\n",
              "    }\n",
              "\n",
              "    .dataframe thead th {\n",
              "        text-align: right;\n",
              "    }\n",
              "</style>\n",
              "<table border=\"1\" class=\"dataframe\">\n",
              "  <thead>\n",
              "    <tr style=\"text-align: right;\">\n",
              "      <th></th>\n",
              "      <th>주차</th>\n",
              "      <th>프로그램명</th>\n",
              "      <th>채널</th>\n",
              "      <th>요일</th>\n",
              "      <th>게시글</th>\n",
              "      <th>댓글</th>\n",
              "      <th>동영상 조회</th>\n",
              "      <th>뉴스</th>\n",
              "      <th>동영상</th>\n",
              "      <th>게시글 비율</th>\n",
              "      <th>댓글 비율</th>\n",
              "      <th>동영상 조회 비율</th>\n",
              "      <th>뉴스 비율</th>\n",
              "      <th>동영상 비율</th>\n",
              "      <th>가구</th>\n",
              "      <th>2049</th>\n",
              "      <th>가구 시청률</th>\n",
              "      <th>2049 시청률</th>\n",
              "    </tr>\n",
              "  </thead>\n",
              "  <tbody>\n",
              "    <tr>\n",
              "      <th>0</th>\n",
              "      <td>202239</td>\n",
              "      <td>* 라디오스타</td>\n",
              "      <td>MBC</td>\n",
              "      <td>수</td>\n",
              "      <td>214</td>\n",
              "      <td>658</td>\n",
              "      <td>1040480</td>\n",
              "      <td>377</td>\n",
              "      <td>47</td>\n",
              "      <td>0.7</td>\n",
              "      <td>0.6</td>\n",
              "      <td>1.4</td>\n",
              "      <td>1.5</td>\n",
              "      <td>0.9</td>\n",
              "      <td>798107</td>\n",
              "      <td>400677</td>\n",
              "      <td>4.0</td>\n",
              "      <td>1.8</td>\n",
              "    </tr>\n",
              "    <tr>\n",
              "      <th>1</th>\n",
              "      <td>202239</td>\n",
              "      <td>알토란</td>\n",
              "      <td>MBN</td>\n",
              "      <td>화</td>\n",
              "      <td>95</td>\n",
              "      <td>182</td>\n",
              "      <td>6703</td>\n",
              "      <td>16</td>\n",
              "      <td>44</td>\n",
              "      <td>0.3</td>\n",
              "      <td>0.2</td>\n",
              "      <td>0.0</td>\n",
              "      <td>0.1</td>\n",
              "      <td>0.8</td>\n",
              "      <td>166179</td>\n",
              "      <td>21020</td>\n",
              "      <td>0.8</td>\n",
              "      <td>0.1</td>\n",
              "    </tr>\n",
              "    <tr>\n",
              "      <th>2</th>\n",
              "      <td>202239</td>\n",
              "      <td>엄지의제왕</td>\n",
              "      <td>MBN</td>\n",
              "      <td>화</td>\n",
              "      <td>28</td>\n",
              "      <td>3</td>\n",
              "      <td>21807</td>\n",
              "      <td>0</td>\n",
              "      <td>24</td>\n",
              "      <td>0.1</td>\n",
              "      <td>0.0</td>\n",
              "      <td>0.0</td>\n",
              "      <td>0.0</td>\n",
              "      <td>0.4</td>\n",
              "      <td>121993</td>\n",
              "      <td>67785</td>\n",
              "      <td>0.6</td>\n",
              "      <td>0.3</td>\n",
              "    </tr>\n",
              "    <tr>\n",
              "      <th>3</th>\n",
              "      <td>202239</td>\n",
              "      <td>이제 만나러 갑니다</td>\n",
              "      <td>채널A</td>\n",
              "      <td>일</td>\n",
              "      <td>13</td>\n",
              "      <td>9</td>\n",
              "      <td>38800</td>\n",
              "      <td>20</td>\n",
              "      <td>25</td>\n",
              "      <td>0.0</td>\n",
              "      <td>0.0</td>\n",
              "      <td>0.1</td>\n",
              "      <td>0.1</td>\n",
              "      <td>0.5</td>\n",
              "      <td>166790</td>\n",
              "      <td>74058</td>\n",
              "      <td>0.8</td>\n",
              "      <td>0.3</td>\n",
              "    </tr>\n",
              "    <tr>\n",
              "      <th>4</th>\n",
              "      <td>202239</td>\n",
              "      <td>불후의 명곡</td>\n",
              "      <td>KBS2</td>\n",
              "      <td>토</td>\n",
              "      <td>358</td>\n",
              "      <td>1324</td>\n",
              "      <td>244385</td>\n",
              "      <td>222</td>\n",
              "      <td>52</td>\n",
              "      <td>1.2</td>\n",
              "      <td>1.2</td>\n",
              "      <td>0.3</td>\n",
              "      <td>0.9</td>\n",
              "      <td>1.0</td>\n",
              "      <td>1330395</td>\n",
              "      <td>348610</td>\n",
              "      <td>6.6</td>\n",
              "      <td>1.6</td>\n",
              "    </tr>\n",
              "  </tbody>\n",
              "</table>\n",
              "</div>\n",
              "      <button class=\"colab-df-convert\" onclick=\"convertToInteractive('df-222712df-5ef0-4ca1-85ce-28dc6b4864ad')\"\n",
              "              title=\"Convert this dataframe to an interactive table.\"\n",
              "              style=\"display:none;\">\n",
              "        \n",
              "  <svg xmlns=\"http://www.w3.org/2000/svg\" height=\"24px\"viewBox=\"0 0 24 24\"\n",
              "       width=\"24px\">\n",
              "    <path d=\"M0 0h24v24H0V0z\" fill=\"none\"/>\n",
              "    <path d=\"M18.56 5.44l.94 2.06.94-2.06 2.06-.94-2.06-.94-.94-2.06-.94 2.06-2.06.94zm-11 1L8.5 8.5l.94-2.06 2.06-.94-2.06-.94L8.5 2.5l-.94 2.06-2.06.94zm10 10l.94 2.06.94-2.06 2.06-.94-2.06-.94-.94-2.06-.94 2.06-2.06.94z\"/><path d=\"M17.41 7.96l-1.37-1.37c-.4-.4-.92-.59-1.43-.59-.52 0-1.04.2-1.43.59L10.3 9.45l-7.72 7.72c-.78.78-.78 2.05 0 2.83L4 21.41c.39.39.9.59 1.41.59.51 0 1.02-.2 1.41-.59l7.78-7.78 2.81-2.81c.8-.78.8-2.07 0-2.86zM5.41 20L4 18.59l7.72-7.72 1.47 1.35L5.41 20z\"/>\n",
              "  </svg>\n",
              "      </button>\n",
              "      \n",
              "  <style>\n",
              "    .colab-df-container {\n",
              "      display:flex;\n",
              "      flex-wrap:wrap;\n",
              "      gap: 12px;\n",
              "    }\n",
              "\n",
              "    .colab-df-convert {\n",
              "      background-color: #E8F0FE;\n",
              "      border: none;\n",
              "      border-radius: 50%;\n",
              "      cursor: pointer;\n",
              "      display: none;\n",
              "      fill: #1967D2;\n",
              "      height: 32px;\n",
              "      padding: 0 0 0 0;\n",
              "      width: 32px;\n",
              "    }\n",
              "\n",
              "    .colab-df-convert:hover {\n",
              "      background-color: #E2EBFA;\n",
              "      box-shadow: 0px 1px 2px rgba(60, 64, 67, 0.3), 0px 1px 3px 1px rgba(60, 64, 67, 0.15);\n",
              "      fill: #174EA6;\n",
              "    }\n",
              "\n",
              "    [theme=dark] .colab-df-convert {\n",
              "      background-color: #3B4455;\n",
              "      fill: #D2E3FC;\n",
              "    }\n",
              "\n",
              "    [theme=dark] .colab-df-convert:hover {\n",
              "      background-color: #434B5C;\n",
              "      box-shadow: 0px 1px 3px 1px rgba(0, 0, 0, 0.15);\n",
              "      filter: drop-shadow(0px 1px 2px rgba(0, 0, 0, 0.3));\n",
              "      fill: #FFFFFF;\n",
              "    }\n",
              "  </style>\n",
              "\n",
              "      <script>\n",
              "        const buttonEl =\n",
              "          document.querySelector('#df-222712df-5ef0-4ca1-85ce-28dc6b4864ad button.colab-df-convert');\n",
              "        buttonEl.style.display =\n",
              "          google.colab.kernel.accessAllowed ? 'block' : 'none';\n",
              "\n",
              "        async function convertToInteractive(key) {\n",
              "          const element = document.querySelector('#df-222712df-5ef0-4ca1-85ce-28dc6b4864ad');\n",
              "          const dataTable =\n",
              "            await google.colab.kernel.invokeFunction('convertToInteractive',\n",
              "                                                     [key], {});\n",
              "          if (!dataTable) return;\n",
              "\n",
              "          const docLinkHtml = 'Like what you see? Visit the ' +\n",
              "            '<a target=\"_blank\" href=https://colab.research.google.com/notebooks/data_table.ipynb>data table notebook</a>'\n",
              "            + ' to learn more about interactive tables.';\n",
              "          element.innerHTML = '';\n",
              "          dataTable['output_type'] = 'display_data';\n",
              "          await google.colab.output.renderOutput(dataTable, element);\n",
              "          const docLink = document.createElement('div');\n",
              "          docLink.innerHTML = docLinkHtml;\n",
              "          element.appendChild(docLink);\n",
              "        }\n",
              "      </script>\n",
              "    </div>\n",
              "  </div>\n",
              "  "
            ]
          },
          "metadata": {},
          "execution_count": 6
        }
      ]
    },
    {
      "cell_type": "markdown",
      "metadata": {
        "id": "CLuIx9AJ1gYL"
      },
      "source": [
        "- 인터넷 반응 지표 데이터의 비어 있는 속성 확인 (결측치)"
      ]
    },
    {
      "cell_type": "code",
      "metadata": {
        "id": "jv7krr1W1ibp",
        "colab": {
          "base_uri": "https://localhost:8080/"
        },
        "outputId": "d7ab80e0-5762-44f8-a0fc-499c053e99ff"
      },
      "source": [
        "df.isna().sum()  # isna() 함수는 결측 값에 대해 True를 표시해 주며, sum() 함수는 true(=1)인 값들의 합을 계산함."
      ],
      "execution_count": null,
      "outputs": [
        {
          "output_type": "execute_result",
          "data": {
            "text/plain": [
              "주차           0\n",
              "프로그램명        0\n",
              "채널           0\n",
              "요일           0\n",
              "게시글          0\n",
              "댓글           0\n",
              "동영상 조회       0\n",
              "뉴스           0\n",
              "동영상          0\n",
              "게시글 비율       0\n",
              "댓글 비율        0\n",
              "동영상 조회 비율    0\n",
              "뉴스 비율        0\n",
              "동영상 비율       0\n",
              "가구           0\n",
              "2049         0\n",
              "가구 시청률       0\n",
              "2049 시청률     0\n",
              "dtype: int64"
            ]
          },
          "metadata": {},
          "execution_count": 7
        }
      ]
    },
    {
      "cell_type": "markdown",
      "metadata": {
        "id": "0ztgTLUq1pu3"
      },
      "source": [
        "- df_c에 개수로 된 데이터와 정답 데이터만 저장"
      ]
    },
    {
      "cell_type": "code",
      "metadata": {
        "id": "hbBSdxA01rb7",
        "colab": {
          "base_uri": "https://localhost:8080/",
          "height": 424
        },
        "outputId": "75e03b5e-3ad6-49a8-b566-14b6c14a0b14"
      },
      "source": [
        "df_c = df[['프로그램명', '게시글', '댓글', '동영상 조회', '뉴스', '동영상', '가구 시청률', '2049 시청률']]\n",
        "df_c"
      ],
      "execution_count": null,
      "outputs": [
        {
          "output_type": "execute_result",
          "data": {
            "text/plain": [
              "                    프로그램명  게시글    댓글   동영상 조회   뉴스  동영상  가구 시청률  2049 시청률\n",
              "0                 * 라디오스타  214   658  1040480  377   47     4.0       1.8\n",
              "1                     알토란   95   182     6703   16   44     0.8       0.1\n",
              "2                   엄지의제왕   28     3    21807    0   24     0.6       0.3\n",
              "3              이제 만나러 갑니다   13     9    38800   20   25     0.8       0.3\n",
              "4                  불후의 명곡  358  1324   244385  222   52     6.6       1.6\n",
              "...                   ...  ...   ...      ...  ...  ...     ...       ...\n",
              "2567            얼어죽을 연애따위   30    15     3300  169    1     0.0       0.0\n",
              "2568                여행의 맛   11    17     6019   89    4     0.0       0.0\n",
              "2569  그리스 로마 신화 - 신들의 사생활    8    11     3289  100    5     0.0       0.0\n",
              "2570               태풍의 신부   12    17     5096   38    1     0.0       0.0\n",
              "2571                   슈룹  132   353   515313  208    5     0.0       0.0\n",
              "\n",
              "[2572 rows x 8 columns]"
            ],
            "text/html": [
              "\n",
              "  <div id=\"df-0ea0e3b9-2cca-4ea6-bcd4-85a8a172ea52\">\n",
              "    <div class=\"colab-df-container\">\n",
              "      <div>\n",
              "<style scoped>\n",
              "    .dataframe tbody tr th:only-of-type {\n",
              "        vertical-align: middle;\n",
              "    }\n",
              "\n",
              "    .dataframe tbody tr th {\n",
              "        vertical-align: top;\n",
              "    }\n",
              "\n",
              "    .dataframe thead th {\n",
              "        text-align: right;\n",
              "    }\n",
              "</style>\n",
              "<table border=\"1\" class=\"dataframe\">\n",
              "  <thead>\n",
              "    <tr style=\"text-align: right;\">\n",
              "      <th></th>\n",
              "      <th>프로그램명</th>\n",
              "      <th>게시글</th>\n",
              "      <th>댓글</th>\n",
              "      <th>동영상 조회</th>\n",
              "      <th>뉴스</th>\n",
              "      <th>동영상</th>\n",
              "      <th>가구 시청률</th>\n",
              "      <th>2049 시청률</th>\n",
              "    </tr>\n",
              "  </thead>\n",
              "  <tbody>\n",
              "    <tr>\n",
              "      <th>0</th>\n",
              "      <td>* 라디오스타</td>\n",
              "      <td>214</td>\n",
              "      <td>658</td>\n",
              "      <td>1040480</td>\n",
              "      <td>377</td>\n",
              "      <td>47</td>\n",
              "      <td>4.0</td>\n",
              "      <td>1.8</td>\n",
              "    </tr>\n",
              "    <tr>\n",
              "      <th>1</th>\n",
              "      <td>알토란</td>\n",
              "      <td>95</td>\n",
              "      <td>182</td>\n",
              "      <td>6703</td>\n",
              "      <td>16</td>\n",
              "      <td>44</td>\n",
              "      <td>0.8</td>\n",
              "      <td>0.1</td>\n",
              "    </tr>\n",
              "    <tr>\n",
              "      <th>2</th>\n",
              "      <td>엄지의제왕</td>\n",
              "      <td>28</td>\n",
              "      <td>3</td>\n",
              "      <td>21807</td>\n",
              "      <td>0</td>\n",
              "      <td>24</td>\n",
              "      <td>0.6</td>\n",
              "      <td>0.3</td>\n",
              "    </tr>\n",
              "    <tr>\n",
              "      <th>3</th>\n",
              "      <td>이제 만나러 갑니다</td>\n",
              "      <td>13</td>\n",
              "      <td>9</td>\n",
              "      <td>38800</td>\n",
              "      <td>20</td>\n",
              "      <td>25</td>\n",
              "      <td>0.8</td>\n",
              "      <td>0.3</td>\n",
              "    </tr>\n",
              "    <tr>\n",
              "      <th>4</th>\n",
              "      <td>불후의 명곡</td>\n",
              "      <td>358</td>\n",
              "      <td>1324</td>\n",
              "      <td>244385</td>\n",
              "      <td>222</td>\n",
              "      <td>52</td>\n",
              "      <td>6.6</td>\n",
              "      <td>1.6</td>\n",
              "    </tr>\n",
              "    <tr>\n",
              "      <th>...</th>\n",
              "      <td>...</td>\n",
              "      <td>...</td>\n",
              "      <td>...</td>\n",
              "      <td>...</td>\n",
              "      <td>...</td>\n",
              "      <td>...</td>\n",
              "      <td>...</td>\n",
              "      <td>...</td>\n",
              "    </tr>\n",
              "    <tr>\n",
              "      <th>2567</th>\n",
              "      <td>얼어죽을 연애따위</td>\n",
              "      <td>30</td>\n",
              "      <td>15</td>\n",
              "      <td>3300</td>\n",
              "      <td>169</td>\n",
              "      <td>1</td>\n",
              "      <td>0.0</td>\n",
              "      <td>0.0</td>\n",
              "    </tr>\n",
              "    <tr>\n",
              "      <th>2568</th>\n",
              "      <td>여행의 맛</td>\n",
              "      <td>11</td>\n",
              "      <td>17</td>\n",
              "      <td>6019</td>\n",
              "      <td>89</td>\n",
              "      <td>4</td>\n",
              "      <td>0.0</td>\n",
              "      <td>0.0</td>\n",
              "    </tr>\n",
              "    <tr>\n",
              "      <th>2569</th>\n",
              "      <td>그리스 로마 신화 - 신들의 사생활</td>\n",
              "      <td>8</td>\n",
              "      <td>11</td>\n",
              "      <td>3289</td>\n",
              "      <td>100</td>\n",
              "      <td>5</td>\n",
              "      <td>0.0</td>\n",
              "      <td>0.0</td>\n",
              "    </tr>\n",
              "    <tr>\n",
              "      <th>2570</th>\n",
              "      <td>태풍의 신부</td>\n",
              "      <td>12</td>\n",
              "      <td>17</td>\n",
              "      <td>5096</td>\n",
              "      <td>38</td>\n",
              "      <td>1</td>\n",
              "      <td>0.0</td>\n",
              "      <td>0.0</td>\n",
              "    </tr>\n",
              "    <tr>\n",
              "      <th>2571</th>\n",
              "      <td>슈룹</td>\n",
              "      <td>132</td>\n",
              "      <td>353</td>\n",
              "      <td>515313</td>\n",
              "      <td>208</td>\n",
              "      <td>5</td>\n",
              "      <td>0.0</td>\n",
              "      <td>0.0</td>\n",
              "    </tr>\n",
              "  </tbody>\n",
              "</table>\n",
              "<p>2572 rows × 8 columns</p>\n",
              "</div>\n",
              "      <button class=\"colab-df-convert\" onclick=\"convertToInteractive('df-0ea0e3b9-2cca-4ea6-bcd4-85a8a172ea52')\"\n",
              "              title=\"Convert this dataframe to an interactive table.\"\n",
              "              style=\"display:none;\">\n",
              "        \n",
              "  <svg xmlns=\"http://www.w3.org/2000/svg\" height=\"24px\"viewBox=\"0 0 24 24\"\n",
              "       width=\"24px\">\n",
              "    <path d=\"M0 0h24v24H0V0z\" fill=\"none\"/>\n",
              "    <path d=\"M18.56 5.44l.94 2.06.94-2.06 2.06-.94-2.06-.94-.94-2.06-.94 2.06-2.06.94zm-11 1L8.5 8.5l.94-2.06 2.06-.94-2.06-.94L8.5 2.5l-.94 2.06-2.06.94zm10 10l.94 2.06.94-2.06 2.06-.94-2.06-.94-.94-2.06-.94 2.06-2.06.94z\"/><path d=\"M17.41 7.96l-1.37-1.37c-.4-.4-.92-.59-1.43-.59-.52 0-1.04.2-1.43.59L10.3 9.45l-7.72 7.72c-.78.78-.78 2.05 0 2.83L4 21.41c.39.39.9.59 1.41.59.51 0 1.02-.2 1.41-.59l7.78-7.78 2.81-2.81c.8-.78.8-2.07 0-2.86zM5.41 20L4 18.59l7.72-7.72 1.47 1.35L5.41 20z\"/>\n",
              "  </svg>\n",
              "      </button>\n",
              "      \n",
              "  <style>\n",
              "    .colab-df-container {\n",
              "      display:flex;\n",
              "      flex-wrap:wrap;\n",
              "      gap: 12px;\n",
              "    }\n",
              "\n",
              "    .colab-df-convert {\n",
              "      background-color: #E8F0FE;\n",
              "      border: none;\n",
              "      border-radius: 50%;\n",
              "      cursor: pointer;\n",
              "      display: none;\n",
              "      fill: #1967D2;\n",
              "      height: 32px;\n",
              "      padding: 0 0 0 0;\n",
              "      width: 32px;\n",
              "    }\n",
              "\n",
              "    .colab-df-convert:hover {\n",
              "      background-color: #E2EBFA;\n",
              "      box-shadow: 0px 1px 2px rgba(60, 64, 67, 0.3), 0px 1px 3px 1px rgba(60, 64, 67, 0.15);\n",
              "      fill: #174EA6;\n",
              "    }\n",
              "\n",
              "    [theme=dark] .colab-df-convert {\n",
              "      background-color: #3B4455;\n",
              "      fill: #D2E3FC;\n",
              "    }\n",
              "\n",
              "    [theme=dark] .colab-df-convert:hover {\n",
              "      background-color: #434B5C;\n",
              "      box-shadow: 0px 1px 3px 1px rgba(0, 0, 0, 0.15);\n",
              "      filter: drop-shadow(0px 1px 2px rgba(0, 0, 0, 0.3));\n",
              "      fill: #FFFFFF;\n",
              "    }\n",
              "  </style>\n",
              "\n",
              "      <script>\n",
              "        const buttonEl =\n",
              "          document.querySelector('#df-0ea0e3b9-2cca-4ea6-bcd4-85a8a172ea52 button.colab-df-convert');\n",
              "        buttonEl.style.display =\n",
              "          google.colab.kernel.accessAllowed ? 'block' : 'none';\n",
              "\n",
              "        async function convertToInteractive(key) {\n",
              "          const element = document.querySelector('#df-0ea0e3b9-2cca-4ea6-bcd4-85a8a172ea52');\n",
              "          const dataTable =\n",
              "            await google.colab.kernel.invokeFunction('convertToInteractive',\n",
              "                                                     [key], {});\n",
              "          if (!dataTable) return;\n",
              "\n",
              "          const docLinkHtml = 'Like what you see? Visit the ' +\n",
              "            '<a target=\"_blank\" href=https://colab.research.google.com/notebooks/data_table.ipynb>data table notebook</a>'\n",
              "            + ' to learn more about interactive tables.';\n",
              "          element.innerHTML = '';\n",
              "          dataTable['output_type'] = 'display_data';\n",
              "          await google.colab.output.renderOutput(dataTable, element);\n",
              "          const docLink = document.createElement('div');\n",
              "          docLink.innerHTML = docLinkHtml;\n",
              "          element.appendChild(docLink);\n",
              "        }\n",
              "      </script>\n",
              "    </div>\n",
              "  </div>\n",
              "  "
            ]
          },
          "metadata": {},
          "execution_count": 8
        }
      ]
    },
    {
      "cell_type": "code",
      "source": [
        "df_a = df[['가구 시청률', '2049 시청률']]\n",
        "df_a"
      ],
      "metadata": {
        "id": "PfcY3qOv_tcg",
        "colab": {
          "base_uri": "https://localhost:8080/",
          "height": 424
        },
        "outputId": "1e58a632-9062-4642-bf21-c621137f2f4d"
      },
      "execution_count": null,
      "outputs": [
        {
          "output_type": "execute_result",
          "data": {
            "text/plain": [
              "      가구 시청률  2049 시청률\n",
              "0        4.0       1.8\n",
              "1        0.8       0.1\n",
              "2        0.6       0.3\n",
              "3        0.8       0.3\n",
              "4        6.6       1.6\n",
              "...      ...       ...\n",
              "2567     0.0       0.0\n",
              "2568     0.0       0.0\n",
              "2569     0.0       0.0\n",
              "2570     0.0       0.0\n",
              "2571     0.0       0.0\n",
              "\n",
              "[2572 rows x 2 columns]"
            ],
            "text/html": [
              "\n",
              "  <div id=\"df-0cd948e2-18bd-4070-91b1-122dc650f12a\">\n",
              "    <div class=\"colab-df-container\">\n",
              "      <div>\n",
              "<style scoped>\n",
              "    .dataframe tbody tr th:only-of-type {\n",
              "        vertical-align: middle;\n",
              "    }\n",
              "\n",
              "    .dataframe tbody tr th {\n",
              "        vertical-align: top;\n",
              "    }\n",
              "\n",
              "    .dataframe thead th {\n",
              "        text-align: right;\n",
              "    }\n",
              "</style>\n",
              "<table border=\"1\" class=\"dataframe\">\n",
              "  <thead>\n",
              "    <tr style=\"text-align: right;\">\n",
              "      <th></th>\n",
              "      <th>가구 시청률</th>\n",
              "      <th>2049 시청률</th>\n",
              "    </tr>\n",
              "  </thead>\n",
              "  <tbody>\n",
              "    <tr>\n",
              "      <th>0</th>\n",
              "      <td>4.0</td>\n",
              "      <td>1.8</td>\n",
              "    </tr>\n",
              "    <tr>\n",
              "      <th>1</th>\n",
              "      <td>0.8</td>\n",
              "      <td>0.1</td>\n",
              "    </tr>\n",
              "    <tr>\n",
              "      <th>2</th>\n",
              "      <td>0.6</td>\n",
              "      <td>0.3</td>\n",
              "    </tr>\n",
              "    <tr>\n",
              "      <th>3</th>\n",
              "      <td>0.8</td>\n",
              "      <td>0.3</td>\n",
              "    </tr>\n",
              "    <tr>\n",
              "      <th>4</th>\n",
              "      <td>6.6</td>\n",
              "      <td>1.6</td>\n",
              "    </tr>\n",
              "    <tr>\n",
              "      <th>...</th>\n",
              "      <td>...</td>\n",
              "      <td>...</td>\n",
              "    </tr>\n",
              "    <tr>\n",
              "      <th>2567</th>\n",
              "      <td>0.0</td>\n",
              "      <td>0.0</td>\n",
              "    </tr>\n",
              "    <tr>\n",
              "      <th>2568</th>\n",
              "      <td>0.0</td>\n",
              "      <td>0.0</td>\n",
              "    </tr>\n",
              "    <tr>\n",
              "      <th>2569</th>\n",
              "      <td>0.0</td>\n",
              "      <td>0.0</td>\n",
              "    </tr>\n",
              "    <tr>\n",
              "      <th>2570</th>\n",
              "      <td>0.0</td>\n",
              "      <td>0.0</td>\n",
              "    </tr>\n",
              "    <tr>\n",
              "      <th>2571</th>\n",
              "      <td>0.0</td>\n",
              "      <td>0.0</td>\n",
              "    </tr>\n",
              "  </tbody>\n",
              "</table>\n",
              "<p>2572 rows × 2 columns</p>\n",
              "</div>\n",
              "      <button class=\"colab-df-convert\" onclick=\"convertToInteractive('df-0cd948e2-18bd-4070-91b1-122dc650f12a')\"\n",
              "              title=\"Convert this dataframe to an interactive table.\"\n",
              "              style=\"display:none;\">\n",
              "        \n",
              "  <svg xmlns=\"http://www.w3.org/2000/svg\" height=\"24px\"viewBox=\"0 0 24 24\"\n",
              "       width=\"24px\">\n",
              "    <path d=\"M0 0h24v24H0V0z\" fill=\"none\"/>\n",
              "    <path d=\"M18.56 5.44l.94 2.06.94-2.06 2.06-.94-2.06-.94-.94-2.06-.94 2.06-2.06.94zm-11 1L8.5 8.5l.94-2.06 2.06-.94-2.06-.94L8.5 2.5l-.94 2.06-2.06.94zm10 10l.94 2.06.94-2.06 2.06-.94-2.06-.94-.94-2.06-.94 2.06-2.06.94z\"/><path d=\"M17.41 7.96l-1.37-1.37c-.4-.4-.92-.59-1.43-.59-.52 0-1.04.2-1.43.59L10.3 9.45l-7.72 7.72c-.78.78-.78 2.05 0 2.83L4 21.41c.39.39.9.59 1.41.59.51 0 1.02-.2 1.41-.59l7.78-7.78 2.81-2.81c.8-.78.8-2.07 0-2.86zM5.41 20L4 18.59l7.72-7.72 1.47 1.35L5.41 20z\"/>\n",
              "  </svg>\n",
              "      </button>\n",
              "      \n",
              "  <style>\n",
              "    .colab-df-container {\n",
              "      display:flex;\n",
              "      flex-wrap:wrap;\n",
              "      gap: 12px;\n",
              "    }\n",
              "\n",
              "    .colab-df-convert {\n",
              "      background-color: #E8F0FE;\n",
              "      border: none;\n",
              "      border-radius: 50%;\n",
              "      cursor: pointer;\n",
              "      display: none;\n",
              "      fill: #1967D2;\n",
              "      height: 32px;\n",
              "      padding: 0 0 0 0;\n",
              "      width: 32px;\n",
              "    }\n",
              "\n",
              "    .colab-df-convert:hover {\n",
              "      background-color: #E2EBFA;\n",
              "      box-shadow: 0px 1px 2px rgba(60, 64, 67, 0.3), 0px 1px 3px 1px rgba(60, 64, 67, 0.15);\n",
              "      fill: #174EA6;\n",
              "    }\n",
              "\n",
              "    [theme=dark] .colab-df-convert {\n",
              "      background-color: #3B4455;\n",
              "      fill: #D2E3FC;\n",
              "    }\n",
              "\n",
              "    [theme=dark] .colab-df-convert:hover {\n",
              "      background-color: #434B5C;\n",
              "      box-shadow: 0px 1px 3px 1px rgba(0, 0, 0, 0.15);\n",
              "      filter: drop-shadow(0px 1px 2px rgba(0, 0, 0, 0.3));\n",
              "      fill: #FFFFFF;\n",
              "    }\n",
              "  </style>\n",
              "\n",
              "      <script>\n",
              "        const buttonEl =\n",
              "          document.querySelector('#df-0cd948e2-18bd-4070-91b1-122dc650f12a button.colab-df-convert');\n",
              "        buttonEl.style.display =\n",
              "          google.colab.kernel.accessAllowed ? 'block' : 'none';\n",
              "\n",
              "        async function convertToInteractive(key) {\n",
              "          const element = document.querySelector('#df-0cd948e2-18bd-4070-91b1-122dc650f12a');\n",
              "          const dataTable =\n",
              "            await google.colab.kernel.invokeFunction('convertToInteractive',\n",
              "                                                     [key], {});\n",
              "          if (!dataTable) return;\n",
              "\n",
              "          const docLinkHtml = 'Like what you see? Visit the ' +\n",
              "            '<a target=\"_blank\" href=https://colab.research.google.com/notebooks/data_table.ipynb>data table notebook</a>'\n",
              "            + ' to learn more about interactive tables.';\n",
              "          element.innerHTML = '';\n",
              "          dataTable['output_type'] = 'display_data';\n",
              "          await google.colab.output.renderOutput(dataTable, element);\n",
              "          const docLink = document.createElement('div');\n",
              "          docLink.innerHTML = docLinkHtml;\n",
              "          element.appendChild(docLink);\n",
              "        }\n",
              "      </script>\n",
              "    </div>\n",
              "  </div>\n",
              "  "
            ]
          },
          "metadata": {},
          "execution_count": 9
        }
      ]
    },
    {
      "cell_type": "markdown",
      "metadata": {
        "id": "VA--Wz-T1xh9"
      },
      "source": [
        "- 데이터 속성들의 관계 수치로 나타내기"
      ]
    },
    {
      "cell_type": "code",
      "metadata": {
        "id": "W1YFdD3i10sd",
        "colab": {
          "base_uri": "https://localhost:8080/",
          "height": 269
        },
        "outputId": "65472fc0-b7fd-44c6-853b-a4a02d503192"
      },
      "source": [
        "df_c.corr() # corr() 함수는 속성들의 관계를 상관 계수로 나타냄."
      ],
      "execution_count": null,
      "outputs": [
        {
          "output_type": "execute_result",
          "data": {
            "text/plain": [
              "               게시글        댓글    동영상 조회        뉴스       동영상    가구 시청률  2049 시청률\n",
              "게시글       1.000000  0.979932  0.738207  0.759358  0.259790  0.164149  0.325664\n",
              "댓글        0.979932  1.000000  0.729219  0.736370  0.243849  0.163684  0.312681\n",
              "동영상 조회    0.738207  0.729219  1.000000  0.659560  0.419105  0.306934  0.447406\n",
              "뉴스        0.759358  0.736370  0.659560  1.000000  0.445445  0.327793  0.492955\n",
              "동영상       0.259790  0.243849  0.419105  0.445445  1.000000  0.444071  0.464032\n",
              "가구 시청률    0.164149  0.163684  0.306934  0.327793  0.444071  1.000000  0.884809\n",
              "2049 시청률  0.325664  0.312681  0.447406  0.492955  0.464032  0.884809  1.000000"
            ],
            "text/html": [
              "\n",
              "  <div id=\"df-9fd6abcf-bd6e-4708-aabf-a98fb8c9a0f3\">\n",
              "    <div class=\"colab-df-container\">\n",
              "      <div>\n",
              "<style scoped>\n",
              "    .dataframe tbody tr th:only-of-type {\n",
              "        vertical-align: middle;\n",
              "    }\n",
              "\n",
              "    .dataframe tbody tr th {\n",
              "        vertical-align: top;\n",
              "    }\n",
              "\n",
              "    .dataframe thead th {\n",
              "        text-align: right;\n",
              "    }\n",
              "</style>\n",
              "<table border=\"1\" class=\"dataframe\">\n",
              "  <thead>\n",
              "    <tr style=\"text-align: right;\">\n",
              "      <th></th>\n",
              "      <th>게시글</th>\n",
              "      <th>댓글</th>\n",
              "      <th>동영상 조회</th>\n",
              "      <th>뉴스</th>\n",
              "      <th>동영상</th>\n",
              "      <th>가구 시청률</th>\n",
              "      <th>2049 시청률</th>\n",
              "    </tr>\n",
              "  </thead>\n",
              "  <tbody>\n",
              "    <tr>\n",
              "      <th>게시글</th>\n",
              "      <td>1.000000</td>\n",
              "      <td>0.979932</td>\n",
              "      <td>0.738207</td>\n",
              "      <td>0.759358</td>\n",
              "      <td>0.259790</td>\n",
              "      <td>0.164149</td>\n",
              "      <td>0.325664</td>\n",
              "    </tr>\n",
              "    <tr>\n",
              "      <th>댓글</th>\n",
              "      <td>0.979932</td>\n",
              "      <td>1.000000</td>\n",
              "      <td>0.729219</td>\n",
              "      <td>0.736370</td>\n",
              "      <td>0.243849</td>\n",
              "      <td>0.163684</td>\n",
              "      <td>0.312681</td>\n",
              "    </tr>\n",
              "    <tr>\n",
              "      <th>동영상 조회</th>\n",
              "      <td>0.738207</td>\n",
              "      <td>0.729219</td>\n",
              "      <td>1.000000</td>\n",
              "      <td>0.659560</td>\n",
              "      <td>0.419105</td>\n",
              "      <td>0.306934</td>\n",
              "      <td>0.447406</td>\n",
              "    </tr>\n",
              "    <tr>\n",
              "      <th>뉴스</th>\n",
              "      <td>0.759358</td>\n",
              "      <td>0.736370</td>\n",
              "      <td>0.659560</td>\n",
              "      <td>1.000000</td>\n",
              "      <td>0.445445</td>\n",
              "      <td>0.327793</td>\n",
              "      <td>0.492955</td>\n",
              "    </tr>\n",
              "    <tr>\n",
              "      <th>동영상</th>\n",
              "      <td>0.259790</td>\n",
              "      <td>0.243849</td>\n",
              "      <td>0.419105</td>\n",
              "      <td>0.445445</td>\n",
              "      <td>1.000000</td>\n",
              "      <td>0.444071</td>\n",
              "      <td>0.464032</td>\n",
              "    </tr>\n",
              "    <tr>\n",
              "      <th>가구 시청률</th>\n",
              "      <td>0.164149</td>\n",
              "      <td>0.163684</td>\n",
              "      <td>0.306934</td>\n",
              "      <td>0.327793</td>\n",
              "      <td>0.444071</td>\n",
              "      <td>1.000000</td>\n",
              "      <td>0.884809</td>\n",
              "    </tr>\n",
              "    <tr>\n",
              "      <th>2049 시청률</th>\n",
              "      <td>0.325664</td>\n",
              "      <td>0.312681</td>\n",
              "      <td>0.447406</td>\n",
              "      <td>0.492955</td>\n",
              "      <td>0.464032</td>\n",
              "      <td>0.884809</td>\n",
              "      <td>1.000000</td>\n",
              "    </tr>\n",
              "  </tbody>\n",
              "</table>\n",
              "</div>\n",
              "      <button class=\"colab-df-convert\" onclick=\"convertToInteractive('df-9fd6abcf-bd6e-4708-aabf-a98fb8c9a0f3')\"\n",
              "              title=\"Convert this dataframe to an interactive table.\"\n",
              "              style=\"display:none;\">\n",
              "        \n",
              "  <svg xmlns=\"http://www.w3.org/2000/svg\" height=\"24px\"viewBox=\"0 0 24 24\"\n",
              "       width=\"24px\">\n",
              "    <path d=\"M0 0h24v24H0V0z\" fill=\"none\"/>\n",
              "    <path d=\"M18.56 5.44l.94 2.06.94-2.06 2.06-.94-2.06-.94-.94-2.06-.94 2.06-2.06.94zm-11 1L8.5 8.5l.94-2.06 2.06-.94-2.06-.94L8.5 2.5l-.94 2.06-2.06.94zm10 10l.94 2.06.94-2.06 2.06-.94-2.06-.94-.94-2.06-.94 2.06-2.06.94z\"/><path d=\"M17.41 7.96l-1.37-1.37c-.4-.4-.92-.59-1.43-.59-.52 0-1.04.2-1.43.59L10.3 9.45l-7.72 7.72c-.78.78-.78 2.05 0 2.83L4 21.41c.39.39.9.59 1.41.59.51 0 1.02-.2 1.41-.59l7.78-7.78 2.81-2.81c.8-.78.8-2.07 0-2.86zM5.41 20L4 18.59l7.72-7.72 1.47 1.35L5.41 20z\"/>\n",
              "  </svg>\n",
              "      </button>\n",
              "      \n",
              "  <style>\n",
              "    .colab-df-container {\n",
              "      display:flex;\n",
              "      flex-wrap:wrap;\n",
              "      gap: 12px;\n",
              "    }\n",
              "\n",
              "    .colab-df-convert {\n",
              "      background-color: #E8F0FE;\n",
              "      border: none;\n",
              "      border-radius: 50%;\n",
              "      cursor: pointer;\n",
              "      display: none;\n",
              "      fill: #1967D2;\n",
              "      height: 32px;\n",
              "      padding: 0 0 0 0;\n",
              "      width: 32px;\n",
              "    }\n",
              "\n",
              "    .colab-df-convert:hover {\n",
              "      background-color: #E2EBFA;\n",
              "      box-shadow: 0px 1px 2px rgba(60, 64, 67, 0.3), 0px 1px 3px 1px rgba(60, 64, 67, 0.15);\n",
              "      fill: #174EA6;\n",
              "    }\n",
              "\n",
              "    [theme=dark] .colab-df-convert {\n",
              "      background-color: #3B4455;\n",
              "      fill: #D2E3FC;\n",
              "    }\n",
              "\n",
              "    [theme=dark] .colab-df-convert:hover {\n",
              "      background-color: #434B5C;\n",
              "      box-shadow: 0px 1px 3px 1px rgba(0, 0, 0, 0.15);\n",
              "      filter: drop-shadow(0px 1px 2px rgba(0, 0, 0, 0.3));\n",
              "      fill: #FFFFFF;\n",
              "    }\n",
              "  </style>\n",
              "\n",
              "      <script>\n",
              "        const buttonEl =\n",
              "          document.querySelector('#df-9fd6abcf-bd6e-4708-aabf-a98fb8c9a0f3 button.colab-df-convert');\n",
              "        buttonEl.style.display =\n",
              "          google.colab.kernel.accessAllowed ? 'block' : 'none';\n",
              "\n",
              "        async function convertToInteractive(key) {\n",
              "          const element = document.querySelector('#df-9fd6abcf-bd6e-4708-aabf-a98fb8c9a0f3');\n",
              "          const dataTable =\n",
              "            await google.colab.kernel.invokeFunction('convertToInteractive',\n",
              "                                                     [key], {});\n",
              "          if (!dataTable) return;\n",
              "\n",
              "          const docLinkHtml = 'Like what you see? Visit the ' +\n",
              "            '<a target=\"_blank\" href=https://colab.research.google.com/notebooks/data_table.ipynb>data table notebook</a>'\n",
              "            + ' to learn more about interactive tables.';\n",
              "          element.innerHTML = '';\n",
              "          dataTable['output_type'] = 'display_data';\n",
              "          await google.colab.output.renderOutput(dataTable, element);\n",
              "          const docLink = document.createElement('div');\n",
              "          docLink.innerHTML = docLinkHtml;\n",
              "          element.appendChild(docLink);\n",
              "        }\n",
              "      </script>\n",
              "    </div>\n",
              "  </div>\n",
              "  "
            ]
          },
          "metadata": {},
          "execution_count": 10
        }
      ]
    },
    {
      "cell_type": "markdown",
      "metadata": {
        "id": "RiUecz2m2H7D"
      },
      "source": [
        "데이터 시각화하기"
      ]
    },
    {
      "cell_type": "markdown",
      "metadata": {
        "id": "W9LiNYmQ2OOq"
      },
      "source": [
        "① 전체 데이터에 대한 시청률 속성과 다른 데이터 속성들의 관계 시각화하기"
      ]
    },
    {
      "cell_type": "markdown",
      "metadata": {
        "id": "v2MrrhGk2ba7"
      },
      "source": [
        "- 전체 데이터에 대한 시청률 속성과 다른 속성들의 관계 시각화"
      ]
    },
    {
      "cell_type": "code",
      "metadata": {
        "id": "nnrCh2ho2eML",
        "colab": {
          "base_uri": "https://localhost:8080/",
          "height": 504
        },
        "outputId": "74c6bed1-7af4-468d-80c5-21bd3a7ebaf5"
      },
      "source": [
        "import matplotlib.pyplot as plt         # 맷플롯립 파이플롯 라이브러리 불러오기\n",
        "import seaborn as sns                   # 시본 라이브러리 불러오기\n",
        "\n",
        "plt.figure(figsize=(8, 8))             # 파이플롯에 있는 figure() 함수로 크기 조정\n",
        "sns.heatmap(df_c.corr(), annot = True)  # 시본 라이브러리에 있는 heatmap() 함수로 상관 계수 시각화"
      ],
      "execution_count": null,
      "outputs": [
        {
          "output_type": "execute_result",
          "data": {
            "text/plain": [
              "<matplotlib.axes._subplots.AxesSubplot at 0x7f95366e87d0>"
            ]
          },
          "metadata": {},
          "execution_count": 11
        },
        {
          "output_type": "display_data",
          "data": {
            "text/plain": [
              "<Figure size 576x576 with 2 Axes>"
            ],
            "image/png": "[encoded data removed]"
          },
          "metadata": {
            "needs_background": "light"
          }
        }
      ]
    },
    {
      "cell_type": "markdown",
      "metadata": {
        "id": "V5WxzRoI2jdE"
      },
      "source": [
        "② 특정 데이터에 대한 시청률 속성과 다른 데이터 속성들의 관계 시각화하기"
      ]
    },
    {
      "cell_type": "markdown",
      "metadata": {
        "id": "Yo2gnGoG2nqY"
      },
      "source": [
        "- 속성 이름과 비교 연산자를 이용한 최고 시청률 프로그램 탐색"
      ]
    },
    {
      "cell_type": "code",
      "metadata": {
        "id": "8_mH5NEQ2pxN",
        "colab": {
          "base_uri": "https://localhost:8080/"
        },
        "outputId": "3d862dc5-a4d9-490d-a95d-3aa164567d21"
      },
      "source": [
        "# 속성 이름과 비교 연산자를 이용하여 시청률이 가장 높은 프로그램명 검색\n",
        "df_c['가구 시청률'].max()"
      ],
      "execution_count": null,
      "outputs": [
        {
          "output_type": "execute_result",
          "data": {
            "text/plain": [
              "23.0"
            ]
          },
          "metadata": {},
          "execution_count": 12
        }
      ]
    },
    {
      "cell_type": "code",
      "source": [
        "df_c['동영상 조회'].max()"
      ],
      "metadata": {
        "colab": {
          "base_uri": "https://localhost:8080/"
        },
        "id": "pKZ4ZkCbDDM6",
        "outputId": "306e8725-da61-419a-a66d-0097ed8d394b"
      },
      "execution_count": null,
      "outputs": [
        {
          "output_type": "execute_result",
          "data": {
            "text/plain": [
              "17625740"
            ]
          },
          "metadata": {},
          "execution_count": 13
        }
      ]
    },
    {
      "cell_type": "code",
      "source": [
        "df_c['가구 시청률'].mean()"
      ],
      "metadata": {
        "colab": {
          "base_uri": "https://localhost:8080/"
        },
        "id": "fnd4cRdCDN8k",
        "outputId": "894675f1-5e84-42da-86e0-be682fd8c4bd"
      },
      "execution_count": null,
      "outputs": [
        {
          "output_type": "execute_result",
          "data": {
            "text/plain": [
              "2.494284603421462"
            ]
          },
          "metadata": {},
          "execution_count": 15
        }
      ]
    },
    {
      "cell_type": "code",
      "metadata": {
        "id": "1df0Enzr2wv0",
        "colab": {
          "base_uri": "https://localhost:8080/"
        },
        "outputId": "a0aec89b-9a52-4837-90c6-a2d57ca192ba"
      },
      "source": [
        "# 가장 높은 시청률 프로그램명을 이용하여 해당 프로그램 데이터 속성만 df_p에 저장\n",
        "df_c['프로그램명'][df_c['가구 시청률'] == df_c['가구 시청률'].max()]"
      ],
      "execution_count": null,
      "outputs": [
        {
          "output_type": "execute_result",
          "data": {
            "text/plain": [
              "2365    현재는 아름다워\n",
              "Name: 프로그램명, dtype: object"
            ]
          },
          "metadata": {},
          "execution_count": 23
        }
      ]
    },
    {
      "cell_type": "code",
      "source": [
        "df_c['프로그램명'][df_c['가구 시청률'] == df_c['가구 시청률'].min()]"
      ],
      "metadata": {
        "colab": {
          "base_uri": "https://localhost:8080/"
        },
        "id": "RdfN84frECUv",
        "outputId": "29559196-f513-470f-a8d9-6c35ebf368f1"
      },
      "execution_count": null,
      "outputs": [
        {
          "output_type": "execute_result",
          "data": {
            "text/plain": [
              "10                    주간아이돌\n",
              "13                * 스페이스 공감\n",
              "41               * 오늘부터 운동뚱\n",
              "51               화요일은 밤이 좋아\n",
              "66              내 몸을 바꾸는 시간\n",
              "               ...         \n",
              "2567              얼어죽을 연애따위\n",
              "2568                  여행의 맛\n",
              "2569    그리스 로마 신화 - 신들의 사생활\n",
              "2570                 태풍의 신부\n",
              "2571                     슈룹\n",
              "Name: 프로그램명, Length: 385, dtype: object"
            ]
          },
          "metadata": {},
          "execution_count": 25
        }
      ]
    },
    {
      "cell_type": "code",
      "source": [
        "df_c['프로그램명'][df_c['2049 시청률'] == df_c['2049 시청률'].max()]"
      ],
      "metadata": {
        "colab": {
          "base_uri": "https://localhost:8080/"
        },
        "id": "qd7k3tuNEjhk",
        "outputId": "ed0c2058-da19-4648-fe90-7cb0f6cf8a31"
      },
      "execution_count": null,
      "outputs": [
        {
          "output_type": "execute_result",
          "data": {
            "text/plain": [
              "1711    이상한 변호사 우영우\n",
              "1838    이상한 변호사 우영우\n",
              "Name: 프로그램명, dtype: object"
            ]
          },
          "metadata": {},
          "execution_count": 28
        }
      ]
    },
    {
      "cell_type": "markdown",
      "metadata": {
        "id": "23xjOCXH2uhD"
      },
      "source": [
        "- df_p에 최고 시청률 프로그램의 데이터 속성 저장"
      ]
    },
    {
      "cell_type": "code",
      "source": [
        "df_p = df_c[df_c['프로그램명'] == '이상한 변호사 우영우']\n",
        "df_p"
      ],
      "metadata": {
        "colab": {
          "base_uri": "https://localhost:8080/",
          "height": 300
        },
        "id": "njuI5czHEvYN",
        "outputId": "9541b899-b63b-4841-cf47-b085effbe292"
      },
      "execution_count": null,
      "outputs": [
        {
          "output_type": "execute_result",
          "data": {
            "text/plain": [
              "            프로그램명    게시글      댓글    동영상 조회    뉴스  동영상  가구 시청률  2049 시청률\n",
              "935   이상한 변호사 우영우   4146   17344   7629571   849   27     0.9       0.5\n",
              "1062  이상한 변호사 우영우  14427   69016  17625740  1218   37     3.1       2.8\n",
              "1194  이상한 변호사 우영우  21136   92348  14814339  2671  111     5.7       5.0\n",
              "1326  이상한 변호사 우영우  23029  112938  15323216  3008   79     7.2       6.0\n",
              "1455  이상한 변호사 우영우  21803   89301  15956783  3391   85     9.6       7.4\n",
              "1581  이상한 변호사 우영우  17723   77927   8808068  2929  100     9.1       7.0\n",
              "1711  이상한 변호사 우영우  11414   49917  16280922  2500  107    10.0       7.6\n",
              "1838  이상한 변호사 우영우  12308   60499  16834779  3607  132    10.6       7.6"
            ],
            "text/html": [
              "\n",
              "  <div id=\"df-69c5fbc8-d539-4554-be7a-d4383581cf88\">\n",
              "    <div class=\"colab-df-container\">\n",
              "      <div>\n",
              "<style scoped>\n",
              "    .dataframe tbody tr th:only-of-type {\n",
              "        vertical-align: middle;\n",
              "    }\n",
              "\n",
              "    .dataframe tbody tr th {\n",
              "        vertical-align: top;\n",
              "    }\n",
              "\n",
              "    .dataframe thead th {\n",
              "        text-align: right;\n",
              "    }\n",
              "</style>\n",
              "<table border=\"1\" class=\"dataframe\">\n",
              "  <thead>\n",
              "    <tr style=\"text-align: right;\">\n",
              "      <th></th>\n",
              "      <th>프로그램명</th>\n",
              "      <th>게시글</th>\n",
              "      <th>댓글</th>\n",
              "      <th>동영상 조회</th>\n",
              "      <th>뉴스</th>\n",
              "      <th>동영상</th>\n",
              "      <th>가구 시청률</th>\n",
              "      <th>2049 시청률</th>\n",
              "    </tr>\n",
              "  </thead>\n",
              "  <tbody>\n",
              "    <tr>\n",
              "      <th>935</th>\n",
              "      <td>이상한 변호사 우영우</td>\n",
              "      <td>4146</td>\n",
              "      <td>17344</td>\n",
              "      <td>7629571</td>\n",
              "      <td>849</td>\n",
              "      <td>27</td>\n",
              "      <td>0.9</td>\n",
              "      <td>0.5</td>\n",
              "    </tr>\n",
              "    <tr>\n",
              "      <th>1062</th>\n",
              "      <td>이상한 변호사 우영우</td>\n",
              "      <td>14427</td>\n",
              "      <td>69016</td>\n",
              "      <td>17625740</td>\n",
              "      <td>1218</td>\n",
              "      <td>37</td>\n",
              "      <td>3.1</td>\n",
              "      <td>2.8</td>\n",
              "    </tr>\n",
              "    <tr>\n",
              "      <th>1194</th>\n",
              "      <td>이상한 변호사 우영우</td>\n",
              "      <td>21136</td>\n",
              "      <td>92348</td>\n",
              "      <td>14814339</td>\n",
              "      <td>2671</td>\n",
              "      <td>111</td>\n",
              "      <td>5.7</td>\n",
              "      <td>5.0</td>\n",
              "    </tr>\n",
              "    <tr>\n",
              "      <th>1326</th>\n",
              "      <td>이상한 변호사 우영우</td>\n",
              "      <td>23029</td>\n",
              "      <td>112938</td>\n",
              "      <td>15323216</td>\n",
              "      <td>3008</td>\n",
              "      <td>79</td>\n",
              "      <td>7.2</td>\n",
              "      <td>6.0</td>\n",
              "    </tr>\n",
              "    <tr>\n",
              "      <th>1455</th>\n",
              "      <td>이상한 변호사 우영우</td>\n",
              "      <td>21803</td>\n",
              "      <td>89301</td>\n",
              "      <td>15956783</td>\n",
              "      <td>3391</td>\n",
              "      <td>85</td>\n",
              "      <td>9.6</td>\n",
              "      <td>7.4</td>\n",
              "    </tr>\n",
              "    <tr>\n",
              "      <th>1581</th>\n",
              "      <td>이상한 변호사 우영우</td>\n",
              "      <td>17723</td>\n",
              "      <td>77927</td>\n",
              "      <td>8808068</td>\n",
              "      <td>2929</td>\n",
              "      <td>100</td>\n",
              "      <td>9.1</td>\n",
              "      <td>7.0</td>\n",
              "    </tr>\n",
              "    <tr>\n",
              "      <th>1711</th>\n",
              "      <td>이상한 변호사 우영우</td>\n",
              "      <td>11414</td>\n",
              "      <td>49917</td>\n",
              "      <td>16280922</td>\n",
              "      <td>2500</td>\n",
              "      <td>107</td>\n",
              "      <td>10.0</td>\n",
              "      <td>7.6</td>\n",
              "    </tr>\n",
              "    <tr>\n",
              "      <th>1838</th>\n",
              "      <td>이상한 변호사 우영우</td>\n",
              "      <td>12308</td>\n",
              "      <td>60499</td>\n",
              "      <td>16834779</td>\n",
              "      <td>3607</td>\n",
              "      <td>132</td>\n",
              "      <td>10.6</td>\n",
              "      <td>7.6</td>\n",
              "    </tr>\n",
              "  </tbody>\n",
              "</table>\n",
              "</div>\n",
              "      <button class=\"colab-df-convert\" onclick=\"convertToInteractive('df-69c5fbc8-d539-4554-be7a-d4383581cf88')\"\n",
              "              title=\"Convert this dataframe to an interactive table.\"\n",
              "              style=\"display:none;\">\n",
              "        \n",
              "  <svg xmlns=\"http://www.w3.org/2000/svg\" height=\"24px\"viewBox=\"0 0 24 24\"\n",
              "       width=\"24px\">\n",
              "    <path d=\"M0 0h24v24H0V0z\" fill=\"none\"/>\n",
              "    <path d=\"M18.56 5.44l.94 2.06.94-2.06 2.06-.94-2.06-.94-.94-2.06-.94 2.06-2.06.94zm-11 1L8.5 8.5l.94-2.06 2.06-.94-2.06-.94L8.5 2.5l-.94 2.06-2.06.94zm10 10l.94 2.06.94-2.06 2.06-.94-2.06-.94-.94-2.06-.94 2.06-2.06.94z\"/><path d=\"M17.41 7.96l-1.37-1.37c-.4-.4-.92-.59-1.43-.59-.52 0-1.04.2-1.43.59L10.3 9.45l-7.72 7.72c-.78.78-.78 2.05 0 2.83L4 21.41c.39.39.9.59 1.41.59.51 0 1.02-.2 1.41-.59l7.78-7.78 2.81-2.81c.8-.78.8-2.07 0-2.86zM5.41 20L4 18.59l7.72-7.72 1.47 1.35L5.41 20z\"/>\n",
              "  </svg>\n",
              "      </button>\n",
              "      \n",
              "  <style>\n",
              "    .colab-df-container {\n",
              "      display:flex;\n",
              "      flex-wrap:wrap;\n",
              "      gap: 12px;\n",
              "    }\n",
              "\n",
              "    .colab-df-convert {\n",
              "      background-color: #E8F0FE;\n",
              "      border: none;\n",
              "      border-radius: 50%;\n",
              "      cursor: pointer;\n",
              "      display: none;\n",
              "      fill: #1967D2;\n",
              "      height: 32px;\n",
              "      padding: 0 0 0 0;\n",
              "      width: 32px;\n",
              "    }\n",
              "\n",
              "    .colab-df-convert:hover {\n",
              "      background-color: #E2EBFA;\n",
              "      box-shadow: 0px 1px 2px rgba(60, 64, 67, 0.3), 0px 1px 3px 1px rgba(60, 64, 67, 0.15);\n",
              "      fill: #174EA6;\n",
              "    }\n",
              "\n",
              "    [theme=dark] .colab-df-convert {\n",
              "      background-color: #3B4455;\n",
              "      fill: #D2E3FC;\n",
              "    }\n",
              "\n",
              "    [theme=dark] .colab-df-convert:hover {\n",
              "      background-color: #434B5C;\n",
              "      box-shadow: 0px 1px 3px 1px rgba(0, 0, 0, 0.15);\n",
              "      filter: drop-shadow(0px 1px 2px rgba(0, 0, 0, 0.3));\n",
              "      fill: #FFFFFF;\n",
              "    }\n",
              "  </style>\n",
              "\n",
              "      <script>\n",
              "        const buttonEl =\n",
              "          document.querySelector('#df-69c5fbc8-d539-4554-be7a-d4383581cf88 button.colab-df-convert');\n",
              "        buttonEl.style.display =\n",
              "          google.colab.kernel.accessAllowed ? 'block' : 'none';\n",
              "\n",
              "        async function convertToInteractive(key) {\n",
              "          const element = document.querySelector('#df-69c5fbc8-d539-4554-be7a-d4383581cf88');\n",
              "          const dataTable =\n",
              "            await google.colab.kernel.invokeFunction('convertToInteractive',\n",
              "                                                     [key], {});\n",
              "          if (!dataTable) return;\n",
              "\n",
              "          const docLinkHtml = 'Like what you see? Visit the ' +\n",
              "            '<a target=\"_blank\" href=https://colab.research.google.com/notebooks/data_table.ipynb>data table notebook</a>'\n",
              "            + ' to learn more about interactive tables.';\n",
              "          element.innerHTML = '';\n",
              "          dataTable['output_type'] = 'display_data';\n",
              "          await google.colab.output.renderOutput(dataTable, element);\n",
              "          const docLink = document.createElement('div');\n",
              "          docLink.innerHTML = docLinkHtml;\n",
              "          element.appendChild(docLink);\n",
              "        }\n",
              "      </script>\n",
              "    </div>\n",
              "  </div>\n",
              "  "
            ]
          },
          "metadata": {},
          "execution_count": 30
        }
      ]
    },
    {
      "cell_type": "markdown",
      "metadata": {
        "id": "HW-5D30W20j8"
      },
      "source": [
        "- 특정 프로그램에 대한 시청률 속성과 다른 속성의 관계 시각화"
      ]
    },
    {
      "cell_type": "code",
      "source": [
        "plt.figure(figsize=(6, 6))             \n",
        "plt.title('이상한 변호사 우영우의 데이터 속성 관계')\n",
        "sns.heatmap(df_c.corr(), annot = True) "
      ],
      "metadata": {
        "colab": {
          "base_uri": "https://localhost:8080/",
          "height": 449
        },
        "id": "FOt7MxBDFW0Y",
        "outputId": "37c9800f-e179-4b3c-dd82-3fba3999cfa4"
      },
      "execution_count": null,
      "outputs": [
        {
          "output_type": "execute_result",
          "data": {
            "text/plain": [
              "<matplotlib.axes._subplots.AxesSubplot at 0x7f952fc995d0>"
            ]
          },
          "metadata": {},
          "execution_count": 32
        },
        {
          "output_type": "display_data",
          "data": {
            "text/plain": [
              "<Figure size 432x432 with 2 Axes>"
            ],
            "image/png": "[encoded data removed]"
          },
          "metadata": {
            "needs_background": "light"
          }
        }
      ]
    },
    {
      "cell_type": "code",
      "metadata": {
        "id": "1aVBtScO22jq"
      },
      "source": [
        "# 파이플롯에 있는 figure() 함수로 크기 조정\n",
        "# title() 함수로 그래프 제목 넣기\n"
      ],
      "execution_count": null,
      "outputs": []
    },
    {
      "cell_type": "markdown",
      "metadata": {
        "id": "-eaMutnq3DnH"
      },
      "source": [
        "③ 여러 데이터 속성이 프로그램마다 어떤 역할을 하는지 확인하기"
      ]
    },
    {
      "cell_type": "markdown",
      "metadata": {
        "id": "6tF1rmc23HFx"
      },
      "source": [
        "- 시청률 높은 프로그램명 검색하기"
      ]
    },
    {
      "cell_type": "code",
      "metadata": {
        "id": "mD1tqvLD3JNk",
        "colab": {
          "base_uri": "https://localhost:8080/"
        },
        "outputId": "b9400f36-3e48-4d75-a82f-6d9f0041a961"
      },
      "source": [
        "# 속성 이름과 비교 연산자를 이용하여 시청률 15프로 이상의 프로그램명을 검색\n",
        "tp = list(df_c['프로그램명'][df_c['2049 시청률'] >= 5])\n",
        "type(tp)\n",
        "tp_set = set(tp) #set 집합 (중복이 없음, 중복제거에 활용)\n",
        "tp_set"
      ],
      "execution_count": null,
      "outputs": [
        {
          "output_type": "execute_result",
          "data": {
            "text/plain": [
              "{'1박 2일 시즌4',\n",
              " '미운 우리 새끼',\n",
              " '빅마우스',\n",
              " '삼남매가 용감하게',\n",
              " '이상한 변호사 우영우',\n",
              " '천원짜리 변호사',\n",
              " '현재는 아름다워'}"
            ]
          },
          "metadata": {},
          "execution_count": 48
        }
      ]
    },
    {
      "cell_type": "markdown",
      "metadata": {
        "id": "iZY8K5y24It_"
      },
      "source": [
        "- df_m에 3개의 프로그램 정보 저장"
      ]
    },
    {
      "cell_type": "code",
      "metadata": {
        "id": "48HbBUCh4JoG"
      },
      "source": [
        "# 속성 이름과 append() 함수를 이용하여 세 개의 프로그램의 정보를 df_m에 저장함.\n",
        "df_m = df_c[df_c['프로그램명']=='천원짜리 변호사']\n",
        "df_m = df_m.append(df_c[df_c['프로그램명'] == '안싸우면 다행이야'])\n",
        "df_m = df_m.append(df_c[df_c['프로그램명'] == '슈룹'])\n",
        "df_m "
      ],
      "execution_count": null,
      "outputs": []
    },
    {
      "cell_type": "markdown",
      "metadata": {
        "id": "ikwHDGtf4bDp"
      },
      "source": [
        "- 시청률 높은 프로그램에 대한 시청률 속성과 다른 속성의 관계 시각화"
      ]
    },
    {
      "cell_type": "code",
      "metadata": {
        "id": "CkB2EaJ44fte",
        "colab": {
          "base_uri": "https://localhost:8080/",
          "height": 438
        },
        "outputId": "f02d1323-8bc1-4de3-d9a1-00b4868c79b9"
      },
      "source": [
        "plt.figure(figsize=(6, 6))             \n",
        "sns.heatmap(df_m.corr(), annot = True) "
      ],
      "execution_count": null,
      "outputs": [
        {
          "output_type": "execute_result",
          "data": {
            "text/plain": [
              "<matplotlib.axes._subplots.AxesSubplot at 0x7f952f7cde50>"
            ]
          },
          "metadata": {},
          "execution_count": 59
        },
        {
          "output_type": "display_data",
          "data": {
            "text/plain": [
              "<Figure size 432x432 with 2 Axes>"
            ],
            "image/png": "[encoded data removed]"
          },
          "metadata": {
            "needs_background": "light"
          }
        }
      ]
    },
    {
      "cell_type": "markdown",
      "metadata": {
        "id": "QkPPISd24w5b"
      },
      "source": [
        "- 시청자 반응 데이터 속성들이 프로그램을 식별할 수 있는지 확인하기"
      ]
    },
    {
      "cell_type": "code",
      "metadata": {
        "id": "5frXYFyF4zCr",
        "colab": {
          "base_uri": "https://localhost:8080/",
          "height": 641
        },
        "outputId": "a19ff252-fcd4-403a-8361-f8680576e366"
      },
      "source": [
        "df_m = df_m[['프로그램명', '게시글', '댓글', '동영상 조회']]\n",
        "# 시몬 라이브러리의 pairplot() 함수를 이용하먄 데이터 속성들의 상관관계를 한눈에 볼 수 있음\n",
        "sns.pairplot(data=df_m, palette='rainbow', hue='프로그램명')"
      ],
      "execution_count": null,
      "outputs": [
        {
          "output_type": "stream",
          "name": "stderr",
          "text": [
            "/usr/local/lib/python3.7/dist-packages/matplotlib/backends/backend_agg.py:214: RuntimeWarning: Glyph 8722 missing from current font.\n",
            "  font.set_text(s, 0.0, flags=flags)\n",
            "/usr/local/lib/python3.7/dist-packages/matplotlib/backends/backend_agg.py:183: RuntimeWarning: Glyph 8722 missing from current font.\n",
            "  font.set_text(s, 0, flags=flags)\n"
          ]
        },
        {
          "output_type": "execute_result",
          "data": {
            "text/plain": [
              "<seaborn.axisgrid.PairGrid at 0x7f952f49b6d0>"
            ]
          },
          "metadata": {},
          "execution_count": 60
        },
        {
          "output_type": "display_data",
          "data": {
            "text/plain": [
              "<Figure size 649.25x540 with 12 Axes>"
            ],
            "image/png": "[encoded data removed]"
          },
          "metadata": {
            "needs_background": "light"
          }
        }
      ]
    }
  ]
}
{
  "cells": [
    {
      "cell_type": "markdown",
      "metadata": {
        "id": "Fi-6OHML6eKs"
      },
      "source": [
        "# 네이버 영화 리뷰를 크롤링하여 데이터프레임으로 변환"
      ]
    },
    {
      "cell_type": "code",
      "execution_count": null,
      "metadata": {
        "id": "fQvuVSIu6i6k"
      },
      "outputs": [],
      "source": [
        "import requests\n",
        "from bs4 import BeautifulSoup # HTML parser 구문분석\n",
        "import time\n",
        "import csv"
      ]
    },
    {
      "cell_type": "code",
      "execution_count": null,
      "metadata": {
        "id": "5cOCI2_F67Ts"
      },
      "outputs": [],
      "source": [
        "review = []\n",
        "reviw_data =[]\n",
        "cnt = 100\n",
        "\n",
        "url = f'https://movie.naver.com/movie/point/af/list.naver#?&page={1}'\n",
        "html = requests.get(url)\n",
        "soup = BeautifulSoup(html.content,'html.parser') \n",
        "soup"
      ]
    },
    {
      "cell_type": "code",
      "execution_count": null,
      "metadata": {
        "colab": {
          "background_save": true
        },
        "id": "ebJ4Sgk-9AZr"
      },
      "outputs": [],
      "source": [
        "review = []\n",
        "review_data =[]\n",
        "cnt = 1000\n",
        "\n",
        "for page in range(1,500):\n",
        "  url = f'https://movie.naver.com/movie/point/af/list.naver#?&page={page}'\n",
        "  html = requests.get(url)\n",
        "  soup = BeautifulSoup(html.content,'html.parser') \n",
        "  reviews = soup.find_all(\"td\", {\"class\":\"title\"})\n",
        "  for review in reviews:\n",
        "    sentence = review.find(\"a\",{\"class\":\"report\"}).get(\"onclick\").split(\"', '\")[2]\n",
        "    if sentence !=\"\":\n",
        "      movie = review.find(\"a\",{\"class\":\"movie color_b\"}).get_text()\n",
        "      score = review.find(\"em\").get_text()\n",
        "      review_data.append([movie,sentence, int(score)])\n",
        "      cnt -= 1\n",
        "    if cnt<0:\n",
        "      break\n",
        "    time.sleep(0.1)\n"
      ]
    },
    {
      "cell_type": "code",
      "execution_count": null,
      "metadata": {
        "id": "Ro7fP6ZCCn6k"
      },
      "outputs": [],
      "source": [
        "review_data"
      ]
    },
    {
      "cell_type": "code",
      "execution_count": null,
      "metadata": {
        "id": "FwBcZE-TFoQ0"
      },
      "outputs": [],
      "source": [
        "columns_name = [\"movie\", \"sentence\", \"score\"]\n",
        "with open (\"samples.csv\", \"w\", newline = \"\", encoding = 'utf8') as f:\n",
        "    write = csv.writer(f)\n",
        "    write.writerow(columns_name)\n",
        "    write.writerows(review_data)"
      ]
    },
    {
      "cell_type": "code",
      "execution_count": null,
      "metadata": {
        "colab": {
          "base_uri": "https://localhost:8080/",
          "height": 424
        },
        "id": "r87mOCt4GpY7",
        "outputId": "4793d8df-7ed8-4e8a-f08a-13887281ac1c"
      },
      "outputs": [
        {
          "data": {
            "text/html": [
              "\n",
              "  <div id=\"df-36e74c57-c3fb-4d9d-a2ae-e1c8147d74b6\">\n",
              "    <div class=\"colab-df-container\">\n",
              "      <div>\n",
              "<style scoped>\n",
              "    .dataframe tbody tr th:only-of-type {\n",
              "        vertical-align: middle;\n",
              "    }\n",
              "\n",
              "    .dataframe tbody tr th {\n",
              "        vertical-align: top;\n",
              "    }\n",
              "\n",
              "    .dataframe thead th {\n",
              "        text-align: right;\n",
              "    }\n",
              "</style>\n",
              "<table border=\"1\" class=\"dataframe\">\n",
              "  <thead>\n",
              "    <tr style=\"text-align: right;\">\n",
              "      <th></th>\n",
              "      <th>movie</th>\n",
              "      <th>sentence</th>\n",
              "      <th>score</th>\n",
              "    </tr>\n",
              "  </thead>\n",
              "  <tbody>\n",
              "    <tr>\n",
              "      <th>0</th>\n",
              "      <td>극장판 뽀로로와 친구들: 바이러스를 없애줘!</td>\n",
              "      <td>5살아이 극장에서 애니메이션 세번째인데, 단연 뽀로로를 가장 좋아합니다.너무 재밌어...</td>\n",
              "      <td>10</td>\n",
              "    </tr>\n",
              "    <tr>\n",
              "      <th>1</th>\n",
              "      <td>올빼미</td>\n",
              "      <td>연기도 좋았고, 긴장감도 좋았는데,역사적으로 좀 억지스런 과장된 몇몇 장면들이 불편했음.</td>\n",
              "      <td>8</td>\n",
              "    </tr>\n",
              "    <tr>\n",
              "      <th>2</th>\n",
              "      <td>올빼미</td>\n",
              "      <td>완벽한 서스펜스 영화</td>\n",
              "      <td>7</td>\n",
              "    </tr>\n",
              "    <tr>\n",
              "      <th>3</th>\n",
              "      <td>수색자</td>\n",
              "      <td>굉장히 훌륭하네요 그냥 군 영화인 줄 알았어요좀 놀랬음. 기대 전혀 안했는데…강력 ...</td>\n",
              "      <td>10</td>\n",
              "    </tr>\n",
              "    <tr>\n",
              "      <th>4</th>\n",
              "      <td>올빼미</td>\n",
              "      <td>예고편만 봐도 기대됨 10자라니 이건 너무 길다</td>\n",
              "      <td>10</td>\n",
              "    </tr>\n",
              "    <tr>\n",
              "      <th>...</th>\n",
              "      <td>...</td>\n",
              "      <td>...</td>\n",
              "      <td>...</td>\n",
              "    </tr>\n",
              "    <tr>\n",
              "      <th>1288</th>\n",
              "      <td>에브리씽 에브리웨어 올 앳 원스</td>\n",
              "      <td>앞으로 수십년간 바뀔 일 없을 인생 영화</td>\n",
              "      <td>10</td>\n",
              "    </tr>\n",
              "    <tr>\n",
              "      <th>1289</th>\n",
              "      <td>에브리씽 에브리웨어 올 앳 원스</td>\n",
              "      <td>앞으로 수십년간 바뀔 일 없을 인생 영화</td>\n",
              "      <td>10</td>\n",
              "    </tr>\n",
              "    <tr>\n",
              "      <th>1290</th>\n",
              "      <td>에브리씽 에브리웨어 올 앳 원스</td>\n",
              "      <td>앞으로 수십년간 바뀔 일 없을 인생 영화</td>\n",
              "      <td>10</td>\n",
              "    </tr>\n",
              "    <tr>\n",
              "      <th>1291</th>\n",
              "      <td>에브리씽 에브리웨어 올 앳 원스</td>\n",
              "      <td>앞으로 수십년간 바뀔 일 없을 인생 영화</td>\n",
              "      <td>10</td>\n",
              "    </tr>\n",
              "    <tr>\n",
              "      <th>1292</th>\n",
              "      <td>에브리씽 에브리웨어 올 앳 원스</td>\n",
              "      <td>앞으로 수십년간 바뀔 일 없을 인생 영화</td>\n",
              "      <td>10</td>\n",
              "    </tr>\n",
              "  </tbody>\n",
              "</table>\n",
              "<p>1293 rows × 3 columns</p>\n",
              "</div>\n",
              "      <button class=\"colab-df-convert\" onclick=\"convertToInteractive('df-36e74c57-c3fb-4d9d-a2ae-e1c8147d74b6')\"\n",
              "              title=\"Convert this dataframe to an interactive table.\"\n",
              "              style=\"display:none;\">\n",
              "        \n",
              "  <svg xmlns=\"http://www.w3.org/2000/svg\" height=\"24px\"viewBox=\"0 0 24 24\"\n",
              "       width=\"24px\">\n",
              "    <path d=\"M0 0h24v24H0V0z\" fill=\"none\"/>\n",
              "    <path d=\"M18.56 5.44l.94 2.06.94-2.06 2.06-.94-2.06-.94-.94-2.06-.94 2.06-2.06.94zm-11 1L8.5 8.5l.94-2.06 2.06-.94-2.06-.94L8.5 2.5l-.94 2.06-2.06.94zm10 10l.94 2.06.94-2.06 2.06-.94-2.06-.94-.94-2.06-.94 2.06-2.06.94z\"/><path d=\"M17.41 7.96l-1.37-1.37c-.4-.4-.92-.59-1.43-.59-.52 0-1.04.2-1.43.59L10.3 9.45l-7.72 7.72c-.78.78-.78 2.05 0 2.83L4 21.41c.39.39.9.59 1.41.59.51 0 1.02-.2 1.41-.59l7.78-7.78 2.81-2.81c.8-.78.8-2.07 0-2.86zM5.41 20L4 18.59l7.72-7.72 1.47 1.35L5.41 20z\"/>\n",
              "  </svg>\n",
              "      </button>\n",
              "      \n",
              "  <style>\n",
              "    .colab-df-container {\n",
              "      display:flex;\n",
              "      flex-wrap:wrap;\n",
              "      gap: 12px;\n",
              "    }\n",
              "\n",
              "    .colab-df-convert {\n",
              "      background-color: #E8F0FE;\n",
              "      border: none;\n",
              "      border-radius: 50%;\n",
              "      cursor: pointer;\n",
              "      display: none;\n",
              "      fill: #1967D2;\n",
              "      height: 32px;\n",
              "      padding: 0 0 0 0;\n",
              "      width: 32px;\n",
              "    }\n",
              "\n",
              "    .colab-df-convert:hover {\n",
              "      background-color: #E2EBFA;\n",
              "      box-shadow: 0px 1px 2px rgba(60, 64, 67, 0.3), 0px 1px 3px 1px rgba(60, 64, 67, 0.15);\n",
              "      fill: #174EA6;\n",
              "    }\n",
              "\n",
              "    [theme=dark] .colab-df-convert {\n",
              "      background-color: #3B4455;\n",
              "      fill: #D2E3FC;\n",
              "    }\n",
              "\n",
              "    [theme=dark] .colab-df-convert:hover {\n",
              "      background-color: #434B5C;\n",
              "      box-shadow: 0px 1px 3px 1px rgba(0, 0, 0, 0.15);\n",
              "      filter: drop-shadow(0px 1px 2px rgba(0, 0, 0, 0.3));\n",
              "      fill: #FFFFFF;\n",
              "    }\n",
              "  </style>\n",
              "\n",
              "      <script>\n",
              "        const buttonEl =\n",
              "          document.querySelector('#df-36e74c57-c3fb-4d9d-a2ae-e1c8147d74b6 button.colab-df-convert');\n",
              "        buttonEl.style.display =\n",
              "          google.colab.kernel.accessAllowed ? 'block' : 'none';\n",
              "\n",
              "        async function convertToInteractive(key) {\n",
              "          const element = document.querySelector('#df-36e74c57-c3fb-4d9d-a2ae-e1c8147d74b6');\n",
              "          const dataTable =\n",
              "            await google.colab.kernel.invokeFunction('convertToInteractive',\n",
              "                                                     [key], {});\n",
              "          if (!dataTable) return;\n",
              "\n",
              "          const docLinkHtml = 'Like what you see? Visit the ' +\n",
              "            '<a target=\"_blank\" href=https://colab.research.google.com/notebooks/data_table.ipynb>data table notebook</a>'\n",
              "            + ' to learn more about interactive tables.';\n",
              "          element.innerHTML = '';\n",
              "          dataTable['output_type'] = 'display_data';\n",
              "          await google.colab.output.renderOutput(dataTable, element);\n",
              "          const docLink = document.createElement('div');\n",
              "          docLink.innerHTML = docLinkHtml;\n",
              "          element.appendChild(docLink);\n",
              "        }\n",
              "      </script>\n",
              "    </div>\n",
              "  </div>\n",
              "  "
            ],
            "text/plain": [
              "                         movie  \\\n",
              "0     극장판 뽀로로와 친구들: 바이러스를 없애줘!   \n",
              "1                          올빼미   \n",
              "2                          올빼미   \n",
              "3                          수색자   \n",
              "4                          올빼미   \n",
              "...                        ...   \n",
              "1288         에브리씽 에브리웨어 올 앳 원스   \n",
              "1289         에브리씽 에브리웨어 올 앳 원스   \n",
              "1290         에브리씽 에브리웨어 올 앳 원스   \n",
              "1291         에브리씽 에브리웨어 올 앳 원스   \n",
              "1292         에브리씽 에브리웨어 올 앳 원스   \n",
              "\n",
              "                                               sentence  score  \n",
              "0     5살아이 극장에서 애니메이션 세번째인데, 단연 뽀로로를 가장 좋아합니다.너무 재밌어...     10  \n",
              "1     연기도 좋았고, 긴장감도 좋았는데,역사적으로 좀 억지스런 과장된 몇몇 장면들이 불편했음.      8  \n",
              "2                                           완벽한 서스펜스 영화      7  \n",
              "3     굉장히 훌륭하네요 그냥 군 영화인 줄 알았어요좀 놀랬음. 기대 전혀 안했는데…강력 ...     10  \n",
              "4                            예고편만 봐도 기대됨 10자라니 이건 너무 길다     10  \n",
              "...                                                 ...    ...  \n",
              "1288                             앞으로 수십년간 바뀔 일 없을 인생 영화     10  \n",
              "1289                             앞으로 수십년간 바뀔 일 없을 인생 영화     10  \n",
              "1290                             앞으로 수십년간 바뀔 일 없을 인생 영화     10  \n",
              "1291                             앞으로 수십년간 바뀔 일 없을 인생 영화     10  \n",
              "1292                             앞으로 수십년간 바뀔 일 없을 인생 영화     10  \n",
              "\n",
              "[1293 rows x 3 columns]"
            ]
          },
          "execution_count": 60,
          "metadata": {},
          "output_type": "execute_result"
        }
      ],
      "source": [
        "import pandas as pd\n",
        "data = pd.read_csv(\"samples.csv\")\n",
        "data"
      ]
    },
    {
      "cell_type": "code",
      "execution_count": null,
      "metadata": {
        "colab": {
          "base_uri": "https://localhost:8080/"
        },
        "id": "p9IB3TamG_JL",
        "outputId": "288af475-c287-45a6-c59e-4284a31ac842"
      },
      "outputs": [
        {
          "data": {
            "text/plain": [
              "movie\n",
              "극장판 뽀로로와 친구들: 바이러스를 없애줘!    10.000000\n",
              "블루 재스민                      10.000000\n",
              "새콤달콤                        10.000000\n",
              "수색자                         10.000000\n",
              "에브리씽 에브리웨어 올 앳 원스           10.000000\n",
              "올빼미                          7.884615\n",
              "자백                           6.000000\n",
              "정직한 후보2                      3.000000\n",
              "제로 다크 서티                     8.000000\n",
              "탄생                          10.000000\n",
              "프레이 포 더 데블                  10.000000\n",
              "한산 리덕스                      10.000000\n",
              "Name: score, dtype: float64"
            ]
          },
          "execution_count": 61,
          "metadata": {},
          "output_type": "execute_result"
        }
      ],
      "source": [
        "# 영화별로 그룹을 지어 평점 평균을 구하시오.\n",
        "# group by()\n",
        "# data.groupby('movie')['score'].min()\n",
        "result = data.groupby('movie')['score'].mean()\n",
        "result\n"
      ]
    },
    {
      "cell_type": "code",
      "execution_count": null,
      "metadata": {
        "colab": {
          "base_uri": "https://localhost:8080/"
        },
        "id": "pwHjp5mrIr0r",
        "outputId": "e6da928c-9269-4854-b3d2-d39f1e3d5808"
      },
      "outputs": [
        {
          "name": "stdout",
          "output_type": "stream",
          "text": [
            "올빼미 : 7.884615384615385점\n",
            "제로 다크 서티 : 8.0점\n"
          ]
        }
      ],
      "source": [
        "# 평점 7.0 ~ 8.0\n",
        "for i in range(len(result)):\n",
        "  if 7.0 <= result[i] and result[i] <= 8.0 :\n",
        "    print(f'{result.index[i]} : {result[i]}점')"
      ]
    },
    {
      "cell_type": "code",
      "execution_count": null,
      "metadata": {
        "colab": {
          "base_uri": "https://localhost:8080/"
        },
        "id": "4Lq7cHH2Lg1U",
        "outputId": "6cf65a51-70d6-4cee-c550-8998c43feb9a"
      },
      "outputs": [
        {
          "name": "stdout",
          "output_type": "stream",
          "text": [
            "극장판 뽀로로와 친구들: 바이러스를 없애줘! , 10.0점\n",
            "블루 재스민 , 10.0점\n",
            "새콤달콤 , 10.0점\n",
            "수색자 , 10.0점\n",
            "에브리씽 에브리웨어 올 앳 원스 , 10.0점\n"
          ]
        }
      ],
      "source": [
        "#평점 상위 50등까지 출력하시오.\n",
        "result = result.sort_values(ascending = False)\n",
        "result\n",
        "\n",
        "for i in range(5):\n",
        "    print(f'{result.index[i]} , {result[i]}점')"
      ]
    },
    {
      "cell_type": "code",
      "execution_count": null,
      "metadata": {
        "id": "DdpeDodYQy5D"
      },
      "outputs": [],
      "source": []
    }
  ],
  "metadata": {
    "colab": {
      "provenance": []
    },
    "kernelspec": {
      "display_name": "Python 3",
      "name": "python3"
    },
    "language_info": {
      "name": "python"
    }
  },
  "nbformat": 4,
  "nbformat_minor": 0
}